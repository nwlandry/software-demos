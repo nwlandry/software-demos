{
 "cells": [
  {
   "cell_type": "markdown",
   "metadata": {},
   "source": [
    "# Read/write\n",
    "\n",
    "In this notebook, we will demonstrate how to read and write higher-order datasets"
   ]
  },
  {
   "cell_type": "code",
   "execution_count": 13,
   "metadata": {},
   "outputs": [],
   "source": [
    "import matplotlib.pyplot as plt\n",
    "import networkx as nx\n",
    "import xgi"
   ]
  },
  {
   "cell_type": "code",
   "execution_count": 9,
   "metadata": {},
   "outputs": [],
   "source": [
    "H = xgi.load_xgi_data(\"email-enron\")\n",
    "H.cleanup()"
   ]
  },
  {
   "cell_type": "markdown",
   "metadata": {},
   "source": [
    "## Read and write\n",
    "\n",
    "XGI offers 4 different formats to read and write:\n",
    "* JSON (same format as XGI-DATA)\n",
    "* Hyperedge list\n",
    "* Bipartite edge list\n",
    "* Incidence matrix"
   ]
  },
  {
   "cell_type": "markdown",
   "metadata": {},
   "source": [
    "We can write and read a JSON file:"
   ]
  },
  {
   "cell_type": "code",
   "execution_count": 3,
   "metadata": {},
   "outputs": [],
   "source": [
    "# Write the example hypergraph to a JSON file\n",
    "xgi.write_json(H, \"hypergraph_json.json\")\n",
    "# Load the file just written and store it in a new hypergraph\n",
    "H_json = xgi.read_json(\"hypergraph_json.json\")"
   ]
  },
  {
   "cell_type": "markdown",
   "metadata": {},
   "source": [
    "We can also read/write a hyperedge list:"
   ]
  },
  {
   "cell_type": "code",
   "execution_count": 4,
   "metadata": {},
   "outputs": [],
   "source": [
    "# Write the hypergraph to a file as a hyperedge list\n",
    "xgi.write_edgelist(H, \"hyperedge_list.csv\", delimiter=\",\")\n",
    "# Read the file just written as a new hypergraph\n",
    "H_el = xgi.read_edgelist(\"hyperedge_list.csv\", delimiter=\",\", nodetype=int)"
   ]
  },
  {
   "cell_type": "markdown",
   "metadata": {},
   "source": [
    "We can read/write a bipartite edgelist:"
   ]
  },
  {
   "cell_type": "code",
   "execution_count": 5,
   "metadata": {},
   "outputs": [],
   "source": [
    "# Write the hypergraph as a bipartite edge list\n",
    "xgi.write_bipartite_edgelist(H, \"bipartite_edge_list.csv\", delimiter=\",\")\n",
    "# Read the file just written as a new hypergraph\n",
    "H_bel = xgi.read_bipartite_edgelist(\n",
    "    \"bipartite_edge_list.csv\", delimiter=\",\", nodetype=int\n",
    ")"
   ]
  },
  {
   "cell_type": "markdown",
   "metadata": {},
   "source": [
    "Lastly, we can read/write an incidence matrix:"
   ]
  },
  {
   "cell_type": "code",
   "execution_count": 6,
   "metadata": {},
   "outputs": [],
   "source": [
    "# Write the hypergraph as a bipartite edge list\n",
    "xgi.write_incidence_matrix(H, \"incidence.csv\", delimiter=\",\")\n",
    "# Read the file just written as a new hypergraph\n",
    "H_bel = xgi.read_incidence_matrix(\"incidence.csv\", delimiter=\",\")"
   ]
  },
  {
   "cell_type": "markdown",
   "metadata": {},
   "source": []
  }
 ],
 "metadata": {
  "kernelspec": {
   "display_name": "demo",
   "language": "python",
   "name": "python3"
  },
  "language_info": {
   "codemirror_mode": {
    "name": "ipython",
    "version": 3
   },
   "file_extension": ".py",
   "mimetype": "text/x-python",
   "name": "python",
   "nbconvert_exporter": "python",
   "pygments_lexer": "ipython3",
   "version": "3.11.3"
  }
 },
 "nbformat": 4,
 "nbformat_minor": 2
}
