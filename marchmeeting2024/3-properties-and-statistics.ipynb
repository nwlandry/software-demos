{
 "cells": [
  {
   "cell_type": "markdown",
   "id": "a9781b86",
   "metadata": {},
   "source": [
    "# Properties and statistics\n",
    "\n",
    "In this notebook, we will explore how to access properties and statistics of the nodes and edges. We will\n",
    "* Demonstrate the capabilities of `NodeView` and `EdgeView`\n",
    "* Present the statistics interface for accessing node/edge statistics"
   ]
  },
  {
   "cell_type": "code",
   "execution_count": 1,
   "id": "5a3215df",
   "metadata": {},
   "outputs": [],
   "source": [
    "import xgi"
   ]
  },
  {
   "cell_type": "code",
   "execution_count": 4,
   "id": "0137bc80",
   "metadata": {},
   "outputs": [
    {
     "name": "stdout",
     "output_type": "stream",
     "text": [
      "Hypergraph named kaggle-whats-cooking with 6714 nodes and 39774 hyperedges\n"
     ]
    }
   ],
   "source": [
    "H = xgi.load_xgi_data(\"kaggle-whats-cooking\")\n",
    "print(H)"
   ]
  },
  {
   "cell_type": "markdown",
   "id": "f1693c56",
   "metadata": {},
   "source": [
    "## NodeView and EdgeView\n",
    "\n",
    "*Views* are ways of offering read-only access to the nodes, edges, and their properties. For example, one can\n",
    "* See what nodes are contained in an edge\n",
    "* See which edges are maximal\n",
    "* Find isolated nodes\n",
    "* Access nodal attributes\n",
    "\n",
    "For example:"
   ]
  },
  {
   "cell_type": "code",
   "execution_count": 7,
   "id": "7821db69",
   "metadata": {},
   "outputs": [
    {
     "data": {
      "text/plain": [
       "EdgeView(('940', '2088', '6787', '7011', '8181', '8852', '8990', '10506', '13178', '17804', '18136', '18324', '21008', '22119', '22387', '23512', '26887', '29294', '30636', '32105', '34531', '37220'))"
      ]
     },
     "execution_count": 7,
     "metadata": {},
     "output_type": "execute_result"
    }
   ],
   "source": [
    "H.edges.singletons()"
   ]
  },
  {
   "cell_type": "code",
   "execution_count": 10,
   "id": "3dea9cad",
   "metadata": {},
   "outputs": [
    {
     "data": {
      "text/plain": [
       "{'2974'}"
      ]
     },
     "execution_count": 10,
     "metadata": {},
     "output_type": "execute_result"
    }
   ],
   "source": [
    "H.edges.members(\"2088\")"
   ]
  },
  {
   "cell_type": "code",
   "execution_count": 11,
   "id": "54a1b65e",
   "metadata": {},
   "outputs": [
    {
     "data": {
      "text/plain": [
       "{'name': 'promise buttery spread'}"
      ]
     },
     "execution_count": 11,
     "metadata": {},
     "output_type": "execute_result"
    }
   ],
   "source": [
    "H.nodes[\"2974\"]"
   ]
  },
  {
   "cell_type": "code",
   "execution_count": 19,
   "id": "e58378e2",
   "metadata": {},
   "outputs": [
    {
     "data": {
      "text/plain": [
       "EdgeView(('18', '21', '67', '84', '88', '143', '203', '215', '221', '248', '268', '284', '298', '328', '336', '337', '347', '369', '399', '402', '423', '487', '509', '560', '561', '568', '581', '601', '631', '671', '759', '791', '841', '870', '903', '905', '924', '940', '953', '970', '996', '1028', '1081', '1094', '1151', '1160', '1175', '1177', '1247', '1321', '1334', '1342', '1343', '1383', '1388', '1399', '1434', '1474', '1500', '1510', '1512', '1524', '1557', '1651', '1685', '1699', '1743', '1758', '1767', '1790', '1791', '1817', '1818', '1820', '1844', '1860', '1866', '1905', '1923', '1939', '1943', '1951', '1960', '1962', '2002', '2018', '2060', '2075', '2088', '2104', '2130', '2145', '2190', '2191', '2196', '2226', '2238', '2251', '2260', '2276', '2298', '2311', '2372', '2407', '2420', '2428', '2464', '2501', '2507', '2553', '2565', '2578', '2579', '2581', '2642', '2656', '2672', '2691', '2767', '2774', '2779', '2806', '2827', '2844', '2962', '2983', '2994', '3053', '3054', '3059', '3060', '3062', '3081', '3108', '3109', '3121', '3162', '3214', '3247', '3320', '3340', '3353', '3357', '3377', '3514', '3574', '3588', '3589', '3613', '3661', '3670', '3765', '3782', '3960', '3970', '3981', '4059', '4099', '4124', '4125', '4174', '4195', '4198', '4201', '4224', '4276', '4297', '4364', '4431', '4551', '4603', '4615', '4673', '4708', '4721', '4732', '4767', '4783', '4784', '4791', '4806', '4823', '4882', '4904', '4906', '4915', '4928', '4946', '4950', '4951', '4956', '4979', '4985', '4993', '5000', '5056', '5069', '5073', '5131', '5137', '5180', '5230', '5245', '5259', '5293', '5343', '5372', '5392', '5415', '5429', '5515', '5522', '5547', '5565', '5567', '5615', '5638', '5646', '5710', '5752', '5853', '5869', '5876', '5909', '5942', '5950', '5957', '6000', '6004', '6012', '6032', '6047', '6056', '6163', '6165', '6168', '6182', '6196', '6215', '6218', '6237', '6243', '6296', '6316', '6354', '6365', '6373', '6383', '6408', '6451', '6453', '6479', '6507', '6523', '6574', '6661', '6666', '6672', '6674', '6680', '6693', '6695', '6714', '6787', '6871', '6957', '6960', '6991', '7011', '7019', '7025', '7086', '7155', '7171', '7233', '7287', '7322', '7332', '7346', '7380', '7407', '7414', '7440', '7466', '7563', '7593', '7612', '7665', '7668', '7776', '7828', '7834', '7845', '7852', '7949', '7966', '8029', '8036', '8095', '8116', '8156', '8173', '8181', '8209', '8218', '8235', '8259', '8348', '8353', '8408', '8448', '8456', '8494', '8547', '8590', '8607', '8640', '8686', '8733', '8779', '8795', '8807', '8825', '8851', '8852', '8859', '8922', '8960', '8974', '8984', '8990', '9033', '9059', '9078', '9087', '9097', '9106', '9140', '9155', '9177', '9192', '9222', '9232', '9239', '9296', '9330', '9332', '9340', '9346', '9392', '9393', '9404', '9436', '9441', '9466', '9511', '9523', '9558', '9620', '9652', '9664', '9677', '9690', '9703', '9728', '9762', '9763', '9824', '9857', '9875', '9899', '9916', '9935', '9941', '9947', '9967', '9980', '10094', '10116', '10235', '10297', '10300', '10325', '10391', '10422', '10428', '10453', '10462', '10502', '10506', '10572', '10595', '10606', '10627', '10637', '10707', '10722', '10731', '10780', '10809', '10820', '10849', '10878', '10898', '10955', '10971', '10976', '10982', '10987', '10999', '11018', '11034', '11038', '11046', '11100', '11154', '11225', '11241', '11321', '11351', '11368', '11391', '11393', '11469', '11499', '11517', '11570', '11585', '11637', '11656', '11710', '11732', '11740', '11754', '11757', '11760', '11778', '11939', '12001', '12017', '12056', '12130', '12141', '12170', '12179', '12195', '12198', '12212', '12298', '12313', '12339', '12405', '12410', '12468', '12469', '12480', '12496', '12507', '12509', '12542', '12585', '12589', '12613', '12665', '12672', '12676', '12692', '12695', '12697', '12735', '12740', '12761', '12808', '12825', '12871', '12900', '12917', '12918', '12973', '13052', '13068', '13071', '13077', '13129', '13130', '13132', '13151', '13155', '13176', '13178', '13196', '13213', '13228', '13276', '13300', '13324', '13365', '13371', '13398', '13410', '13413', '13423', '13426', '13428', '13469', '13483', '13528', '13574', '13585', '13640', '13663', '13748', '13752', '13768', '13783', '13790', '13797', '13824', '13825', '13827', '13838', '13839', '13883', '13917', '13945', '13948', '13977', '14053', '14135', '14141', '14171', '14180', '14214', '14263', '14321', '14338', '14352', '14378', '14424', '14451', '14458', '14517', '14539', '14542', '14568', '14569', '14578', '14593', '14594', '14663', '14684', '14690', '14750', '14819', '14859', '14934', '14975', '15083', '15119', '15176', '15207', '15240', '15297', '15320', '15387', '15395', '15467', '15543', '15586', '15659', '15683', '15699', '15710', '15751', '15808', '15834', '15858', '15881', '15889', '15898', '15909', '15929', '15938', '15956', '15988', '15999', '16013', '16035', '16053', '16134', '16162', '16198', '16207', '16221', '16311', '16333', '16351', '16438', '16485', '16507', '16533', '16539', '16552', '16567', '16570', '16598', '16610', '16619', '16677', '16706', '16779', '16813', '16817', '16825', '16864', '16897', '16904', '16943', '17019', '17101', '17167', '17231', '17243', '17244', '17337', '17347', '17349', '17396', '17412', '17454', '17458', '17496', '17520', '17550', '17570', '17620', '17621', '17652', '17692', '17724', '17742', '17804', '17807', '17832', '17869', '17909', '17920', '17932', '17956', '17959', '17973', '17981', '18016', '18024', '18036', '18060', '18081', '18094', '18106', '18114', '18136', '18226', '18232', '18246', '18253', '18260', '18304', '18307', '18324', '18363', '18427', '18434', '18508', '18531', '18617', '18760', '18764', '18807', '18840', '18842', '18877', '18908', '18937', '19002', '19077', '19098', '19133', '19161', '19198', '19219', '19220', '19267', '19285', '19297', '19332', '19350', '19379', '19405', '19425', '19448', '19454', '19521', '19557', '19602', '19610', '19617', '19712', '19747', '19759', '19769', '19771', '19871', '19872', '19913', '19943', '19994', '20040', '20078', '20147', '20180', '20218', '20236', '20243', '20262', '20314', '20341', '20351', '20428', '20466', '20472', '20495', '20546', '20609', '20665', '20683', '20793', '20798', '20802', '20859', '20873', '20899', '20951', '20961', '21008', '21020', '21078', '21094', '21124', '21148', '21211', '21277', '21299', '21359', '21360', '21369', '21392', '21417', '21436', '21458', '21478', '21479', '21580', '21584', '21595', '21610', '21651', '21685', '21722', '21739', '21786', '21809', '21846', '21899', '21913', '21926', '21944', '21960', '22031', '22063', '22073', '22119', '22138', '22173', '22177', '22207', '22208', '22229', '22252', '22320', '22387', '22397', '22402', '22500', '22711', '22724', '22789', '22792', '22826', '22900', '22914', '22917', '22919', '22944', '23075', '23115', '23143', '23144', '23152', '23158', '23185', '23212', '23245', '23268', '23440', '23444', '23486', '23512', '23521', '23580', '23592', '23606', '23680', '23704', '23720', '23722', '23752', '23809', '23824', '23837', '23848', '23857', '23892', '23918', '23956', '23976', '24009', '24019', '24080', '24098', '24141', '24166', '24172', '24179', '24187', '24191', '24257', '24302', '24306', '24333', '24337', '24381', '24383', '24398', '24409', '24456', '24481', '24561', '24578', '24595', '24607', '24627', '24761', '24856', '24918', '24977', '25044', '25072', '25111', '25122', '25123', '25150', '25153', '25155', '25192', '25208', '25218', '25256', '25263', '25309', '25317', '25350', '25411', '25426', '25448', '25452', '25478', '25523', '25575', '25583', '25607', '25610', '25663', '25666', '25782', '25804', '25818', '25863', '25939', '25988', '25991', '26006', '26017', '26041', '26073', '26082', '26125', '26149', '26167', '26184', '26214', '26267', '26286', '26288', '26302', '26334', '26367', '26368', '26372', '26390', '26450', '26532', '26536', '26550', '26572', '26575', '26584', '26613', '26629', '26658', '26670', '26722', '26782', '26840', '26887', '26905', '26914', '26941', '26990', '27004', '27021', '27023', '27064', '27065', '27093', '27123', '27144', '27199', '27239', '27284', '27350', '27374', '27380', '27388', '27392', '27395', '27403', '27411', '27413', '27475', '27478', '27575', '27663', '27669', '27680', '27685', '27699', '27742', '27778', '27795', '27823', '27840', '27866', '27884', '27886', '27889', '27906', '27915', '27999', '28018', '28019', '28029', '28042', '28131', '28140', '28166', '28169', '28179', '28209', '28246', '28275', '28282', '28299', '28316', '28347', '28358', '28398', '28400', '28404', '28491', '28501', '28561', '28614', '28632', '28648', '28661', '28662', '28691', '28696', '28776', '28789', '28832', '28855', '28962', '29007', '29008', '29043', '29064', '29074', '29222', '29263', '29269', '29289', '29291', '29294', '29296', '29322', '29366', '29436', '29441', '29463', '29477', '29536', '29539', '29569', '29599', '29660', '29704', '29747', '29757', '29769', '29805', '29814', '29844', '29856', '29879', '29891', '29935', '29980', '29982', '30017', '30050', '30080', '30145', '30148', '30219', '30262', '30308', '30315', '30322', '30398', '30429', '30542', '30548', '30596', '30612', '30615', '30629', '30636', '30650', '30680', '30699', '30712', '30734', '30742', '30761', '30768', '30803', '30809', '30820', '30829', '30837', '30899', '30909', '30982', '30986', '30990', '31009', '31025', '31064', '31107', '31170', '31205', '31226', '31254', '31310', '31389', '31410', '31454', '31455', '31586', '31596', '31630', '31644', '31673', '31678', '31719', '31721', '31757', '31769', '31826', '31878', '31882', '31890', '31971', '31997', '32010', '32099', '32105', '32123', '32174', '32175', '32176', '32209', '32224', '32249', '32259', '32299', '32393', '32405', '32411', '32415', '32471', '32507', '32527', '32545', '32579', '32602', '32650', '32684', '32687', '32703', '32706', '32727', '32737', '32829', '32866', '32886', '32899', '32925', '32927', '32936', '32967', '32989', '33016', '33050', '33102', '33109', '33176', '33205', '33219', '33257', '33308', '33441', '33444', '33474', '33586', '33662', '33675', '33682', '33698', '33708', '33816', '33952', '33955', '34029', '34096', '34124', '34147', '34156', '34162', '34180', '34182', '34200', '34211', '34298', '34312', '34315', '34319', '34349', '34355', '34522', '34526', '34531', '34551', '34643', '34687', '34692', '34693', '34745', '34777', '34799', '34820', '34879', '34899', '34926', '35028', '35076', '35088', '35102', '35137', '35169', '35261', '35295', '35320', '35326', '35418', '35422', '35425', '35445', '35448', '35457', '35479', '35509', '35513', '35532', '35543', '35616', '35624', '35631', '35647', '35655', '35701', '35769', '35783', '35830', '35849', '35907', '35925', '35932', '35947', '35989', '36020', '36028', '36035', '36054', '36142', '36174', '36202', '36228', '36243', '36247', '36265', '36267', '36300', '36316', '36384', '36397', '36429', '36430', '36434', '36461', '36512', '36513', '36525', '36528', '36532', '36535', '36546', '36593', '36630', '36631', '36665', '36683', '36686', '36730', '36789', '36795', '36857', '36858', '36883', '36913', '36947', '36955', '36974', '37056', '37064', '37105', '37136', '37175', '37220', '37225', '37299', '37301', '37342', '37369', '37372', '37432', '37440', '37463', '37477', '37490', '37500', '37513', '37568', '37594', '37602', '37604', '37625', '37637', '37660', '37672', '37674', '37765', '37785', '37796', '37814', '37829', '37841', '37844', '37865', '37877', '37882', '37902', '37916', '37951', '37976', '37987', '38049', '38078', '38079', '38122', '38238', '38275', '38281', '38285', '38325', '38342', '38348', '38365', '38368', '38411', '38521', '38618', '38645', '38675', '38697', '38706', '38731', '38764', '38783', '38851', '38869', '38892', '38897', '39002', '39025', '39030', '39031', '39032', '39069', '39083', '39123', '39141', '39168', '39206', '39285', '39321', '39327', '39329', '39437', '39450', '39455', '39477', '39512', '39575', '39584', '39615', '39671', '39689', '39696', '39728', '39739', '39757'))"
      ]
     },
     "execution_count": 19,
     "metadata": {},
     "output_type": "execute_result"
    }
   ],
   "source": [
    "H.edges - H.edges.maximal()"
   ]
  },
  {
   "cell_type": "code",
   "execution_count": 22,
   "id": "6329b524",
   "metadata": {},
   "outputs": [
    {
     "data": {
      "text/plain": [
       "{'1611', '1910', '5408', '5700', '6055', '6126'}"
      ]
     },
     "execution_count": 22,
     "metadata": {},
     "output_type": "execute_result"
    }
   ],
   "source": [
    "H.edges.members(\"67\")"
   ]
  },
  {
   "cell_type": "code",
   "execution_count": 24,
   "id": "34bab458",
   "metadata": {},
   "outputs": [
    {
     "data": {
      "text/plain": [
       "['Quorn crumbles',\n",
       " 'char fillets',\n",
       " 'dried oregano',\n",
       " 'chicken thighs',\n",
       " 'coke zero']"
      ]
     },
     "execution_count": 24,
     "metadata": {},
     "output_type": "execute_result"
    }
   ],
   "source": [
    "[H.nodes[n][\"name\"] for n in H.edges.members(\"67\")]"
   ]
  },
  {
   "attachments": {},
   "cell_type": "markdown",
   "id": "9d820f8e",
   "metadata": {},
   "source": [
    "## Statistics"
   ]
  },
  {
   "cell_type": "markdown",
   "id": "22c91ad1",
   "metadata": {},
   "source": [
    "You may have noticed that most of the functionality in the `Hypergraph` and `SimplicialComplex` classes takes care of modifying the unerlying structure of the network, and that these classes provide very limited functionality to compute statistics (a.k.a. measures) from the network. This is done via the `stats` package, explored here.\n",
    "\n",
    "The stats package is one of the features that sets `xgi` apart from other libraries.  It\n",
    "provides a common interface to all statistics that can be computed from a network, its\n",
    "nodes, or edges."
   ]
  },
  {
   "cell_type": "markdown",
   "id": "018c6bd1",
   "metadata": {},
   "source": [
    "### Introduction to Stat objects"
   ]
  },
  {
   "cell_type": "markdown",
   "id": "1ab63954",
   "metadata": {},
   "source": [
    "Consider the degree of the nodes of a network `H`.  After computing the values of the\n",
    "degrees, one may wish to store them in a dict, a list, an array, a dataframe, etc.\n",
    "Through the stats package, `xgi` provides a simple interface that seamlessly allows for\n",
    "this type conversion.  This is done via the `NodeStat` class."
   ]
  },
  {
   "cell_type": "code",
   "execution_count": 1,
   "id": "05a9a2a5",
   "metadata": {},
   "outputs": [
    {
     "data": {
      "text/plain": [
       "NodeStat('degree')"
      ]
     },
     "execution_count": 1,
     "metadata": {},
     "output_type": "execute_result"
    }
   ],
   "source": [
    "import xgi\n",
    "\n",
    "H = xgi.Hypergraph([[1, 2, 3], [2, 3, 4, 5], [3, 4, 5]])\n",
    "H.nodes.degree"
   ]
  },
  {
   "cell_type": "markdown",
   "id": "2c456800",
   "metadata": {},
   "source": [
    "This `NodeStat` object is essentially a wrapper over a function that computes the\n",
    "degrees of all nodes.  One of the main features of `NodeStat` objects is lazy\n",
    "evaluation: `H.nodes.degree` will not compute the degrees of nodes until a specific\n",
    "output format is requested."
   ]
  },
  {
   "cell_type": "code",
   "execution_count": 2,
   "id": "512f4e2c",
   "metadata": {},
   "outputs": [
    {
     "data": {
      "text/plain": [
       "{1: 1, 2: 2, 3: 3, 4: 2, 5: 2}"
      ]
     },
     "execution_count": 2,
     "metadata": {},
     "output_type": "execute_result"
    }
   ],
   "source": [
    "H.nodes.degree.asdict()"
   ]
  },
  {
   "cell_type": "code",
   "execution_count": 3,
   "id": "ddaed7f6",
   "metadata": {},
   "outputs": [
    {
     "data": {
      "text/plain": [
       "[1, 2, 3, 2, 2]"
      ]
     },
     "execution_count": 3,
     "metadata": {},
     "output_type": "execute_result"
    }
   ],
   "source": [
    "H.nodes.degree.aslist()"
   ]
  },
  {
   "cell_type": "code",
   "execution_count": 4,
   "id": "738297c9",
   "metadata": {},
   "outputs": [
    {
     "data": {
      "text/plain": [
       "array([1, 2, 3, 2, 2])"
      ]
     },
     "execution_count": 4,
     "metadata": {},
     "output_type": "execute_result"
    }
   ],
   "source": [
    "H.nodes.degree.asnumpy()"
   ]
  },
  {
   "cell_type": "markdown",
   "id": "5958e119",
   "metadata": {},
   "source": [
    "To compute the degrees of a subset of the nodes, call `degree` from a smaller `NodeView`."
   ]
  },
  {
   "cell_type": "code",
   "execution_count": 5,
   "id": "5c19ec0e",
   "metadata": {},
   "outputs": [
    {
     "data": {
      "text/plain": [
       "{3: 3, 4: 2, 5: 2}"
      ]
     },
     "execution_count": 5,
     "metadata": {},
     "output_type": "execute_result"
    }
   ],
   "source": [
    "H.nodes([3, 4, 5]).degree.asdict()"
   ]
  },
  {
   "cell_type": "markdown",
   "id": "eaf82dff",
   "metadata": {},
   "source": [
    "Alternatively, to compute the degree of a single node, use square brackets."
   ]
  },
  {
   "cell_type": "code",
   "execution_count": 6,
   "id": "64eda1dd",
   "metadata": {},
   "outputs": [
    {
     "data": {
      "text/plain": [
       "2"
      ]
     },
     "execution_count": 6,
     "metadata": {},
     "output_type": "execute_result"
    }
   ],
   "source": [
    "H.nodes.degree[4]"
   ]
  },
  {
   "cell_type": "markdown",
   "id": "b0cfd41c",
   "metadata": {},
   "source": [
    "Make sure the accessed node is in the underlying view."
   ]
  },
  {
   "cell_type": "code",
   "execution_count": 7,
   "id": "2a745586",
   "metadata": {},
   "outputs": [],
   "source": [
    "# This will raise an exception\n",
    "# because node 4 is not in the view [1, 2, 3]\n",
    "#\n",
    "# H.nodes([1, 2, 3]).degree[4]\n",
    "#"
   ]
  },
  {
   "cell_type": "markdown",
   "id": "41ee1b35",
   "metadata": {},
   "source": [
    "args and kwargs may be passed to `NodeStat` objects, which will be stored and used when\n",
    "the evaluation finally takes place.  For example, use the `order` keyword of `degree` to\n",
    "count only those edges of the specified order."
   ]
  },
  {
   "cell_type": "code",
   "execution_count": 8,
   "id": "06f97c51",
   "metadata": {},
   "outputs": [
    {
     "data": {
      "text/plain": [
       "NodeStat('degree', kwargs={'order': 3})"
      ]
     },
     "execution_count": 8,
     "metadata": {},
     "output_type": "execute_result"
    }
   ],
   "source": [
    "H.nodes.degree(order=3)"
   ]
  },
  {
   "cell_type": "code",
   "execution_count": 9,
   "id": "d78bcb31",
   "metadata": {},
   "outputs": [
    {
     "data": {
      "text/plain": [
       "[0, 1, 1, 1, 1]"
      ]
     },
     "execution_count": 9,
     "metadata": {},
     "output_type": "execute_result"
    }
   ],
   "source": [
    "H.nodes.degree(order=3).aslist()"
   ]
  },
  {
   "cell_type": "markdown",
   "id": "547ceda2",
   "metadata": {},
   "source": [
    "The stats package provides some convenience functions for numerical operations."
   ]
  },
  {
   "cell_type": "code",
   "execution_count": 10,
   "id": "48bb7d5c",
   "metadata": {},
   "outputs": [
    {
     "data": {
      "text/plain": [
       "(3, 1)"
      ]
     },
     "execution_count": 10,
     "metadata": {},
     "output_type": "execute_result"
    }
   ],
   "source": [
    "H.nodes.degree.max(), H.nodes.degree.min()"
   ]
  },
  {
   "cell_type": "code",
   "execution_count": 11,
   "id": "8490f605",
   "metadata": {},
   "outputs": [
    {
     "data": {
      "text/plain": [
       "array([1.   , 0.   , 0.667, 1.   , 0.222, 0.471])"
      ]
     },
     "execution_count": 11,
     "metadata": {},
     "output_type": "execute_result"
    }
   ],
   "source": [
    "import numpy as np\n",
    "\n",
    "st = H.nodes([1, 2, 3]).degree(order=3)\n",
    "np.round([st.max(), st.min(), st.mean(), st.median(), st.var(), st.std()], 3)"
   ]
  },
  {
   "cell_type": "markdown",
   "id": "7669ae88",
   "metadata": {},
   "source": [
    "As a convenience, each node statistic may also be accessed directly through the network itself."
   ]
  },
  {
   "cell_type": "code",
   "execution_count": 12,
   "id": "3b0797f4",
   "metadata": {},
   "outputs": [
    {
     "data": {
      "text/plain": [
       "{1: 1, 2: 2, 3: 3, 4: 2, 5: 2}"
      ]
     },
     "execution_count": 12,
     "metadata": {},
     "output_type": "execute_result"
    }
   ],
   "source": [
    "H.degree()"
   ]
  },
  {
   "cell_type": "markdown",
   "id": "39d32e77",
   "metadata": {},
   "source": [
    "Note however that `H.degree` is a method that simply returns a dict, not a `NodeStat` object and thus does not support the features discussed above."
   ]
  },
  {
   "cell_type": "markdown",
   "id": "08163646",
   "metadata": {},
   "source": [
    "## Node attributes"
   ]
  },
  {
   "cell_type": "markdown",
   "id": "9152e7e5",
   "metadata": {},
   "source": [
    "Node attributes can be conceived of as a node-object mapping and thus they can also be accessed using the `NodeStat` interface and all its funcitonality."
   ]
  },
  {
   "cell_type": "code",
   "execution_count": 13,
   "id": "6215e577",
   "metadata": {},
   "outputs": [],
   "source": [
    "H.add_nodes_from(\n",
    "    [\n",
    "        (1, {\"color\": \"red\", \"name\": \"horse\"}),\n",
    "        (2, {\"color\": \"blue\", \"name\": \"pony\"}),\n",
    "        (3, {\"color\": \"yellow\", \"name\": \"zebra\"}),\n",
    "        (4, {\"color\": \"red\", \"name\": \"orangutan\", \"age\": 20}),\n",
    "        (5, {\"color\": \"blue\", \"name\": \"fish\", \"age\": 2}),\n",
    "    ]\n",
    ")"
   ]
  },
  {
   "cell_type": "markdown",
   "id": "54a3a925",
   "metadata": {},
   "source": [
    "Access all attributes of all nodes by specifying a return type."
   ]
  },
  {
   "cell_type": "code",
   "execution_count": 14,
   "id": "3053f165",
   "metadata": {},
   "outputs": [
    {
     "data": {
      "text/plain": [
       "{1: {'color': 'red', 'name': 'horse'},\n",
       " 2: {'color': 'blue', 'name': 'pony'},\n",
       " 3: {'color': 'yellow', 'name': 'zebra'},\n",
       " 4: {'color': 'red', 'name': 'orangutan', 'age': 20},\n",
       " 5: {'color': 'blue', 'name': 'fish', 'age': 2}}"
      ]
     },
     "execution_count": 14,
     "metadata": {},
     "output_type": "execute_result"
    }
   ],
   "source": [
    "H.nodes.attrs.asdict()"
   ]
  },
  {
   "cell_type": "markdown",
   "id": "052ed6b4",
   "metadata": {},
   "source": [
    "Access all attributes of a single node by using square brackets."
   ]
  },
  {
   "cell_type": "code",
   "execution_count": 15,
   "id": "58b9c28b",
   "metadata": {},
   "outputs": [
    {
     "data": {
      "text/plain": [
       "{'color': 'red', 'name': 'horse'}"
      ]
     },
     "execution_count": 15,
     "metadata": {},
     "output_type": "execute_result"
    }
   ],
   "source": [
    "H.nodes.attrs[1]"
   ]
  },
  {
   "cell_type": "markdown",
   "id": "1f91502a",
   "metadata": {},
   "source": [
    "Access a single attribute of all nodes by specifying a return type."
   ]
  },
  {
   "cell_type": "code",
   "execution_count": 16,
   "id": "f7dfa2d3",
   "metadata": {},
   "outputs": [
    {
     "data": {
      "text/plain": [
       "['red', 'blue', 'yellow', 'red', 'blue']"
      ]
     },
     "execution_count": 16,
     "metadata": {},
     "output_type": "execute_result"
    }
   ],
   "source": [
    "H.nodes.attrs(\"color\").aslist()"
   ]
  },
  {
   "cell_type": "markdown",
   "id": "ce1a5c97",
   "metadata": {},
   "source": [
    "If a node does not have the specified attribute, `None` will be used."
   ]
  },
  {
   "cell_type": "code",
   "execution_count": 17,
   "id": "c2a5acff",
   "metadata": {},
   "outputs": [
    {
     "data": {
      "text/plain": [
       "{1: None, 2: None, 3: None, 4: 20, 5: 2}"
      ]
     },
     "execution_count": 17,
     "metadata": {},
     "output_type": "execute_result"
    }
   ],
   "source": [
    "H.nodes.attrs(\"age\").asdict()"
   ]
  },
  {
   "cell_type": "markdown",
   "id": "5f6c2981",
   "metadata": {},
   "source": [
    "Use the `missing` keyword argument to change the imputed value."
   ]
  },
  {
   "cell_type": "code",
   "execution_count": 18,
   "id": "d9b9ea5c",
   "metadata": {},
   "outputs": [
    {
     "data": {
      "text/plain": [
       "{1: 100, 2: 100, 3: 100, 4: 20, 5: 2}"
      ]
     },
     "execution_count": 18,
     "metadata": {},
     "output_type": "execute_result"
    }
   ],
   "source": [
    "H.nodes.attrs(\"age\", missing=100).asdict()"
   ]
  },
  {
   "cell_type": "markdown",
   "id": "ac5342bf",
   "metadata": {},
   "source": [
    "## Filtering"
   ]
  },
  {
   "cell_type": "markdown",
   "id": "a8feadac",
   "metadata": {},
   "source": [
    "`NodeView` objects are aware of existing `NodeStat` objects via the `filterby` method."
   ]
  },
  {
   "cell_type": "code",
   "execution_count": 19,
   "id": "5164b23e",
   "metadata": {},
   "outputs": [
    {
     "data": {
      "text/plain": [
       "{1: 1, 2: 2, 3: 3, 4: 2, 5: 2}"
      ]
     },
     "execution_count": 19,
     "metadata": {},
     "output_type": "execute_result"
    }
   ],
   "source": [
    "H.degree()"
   ]
  },
  {
   "cell_type": "code",
   "execution_count": 20,
   "id": "c0688703",
   "metadata": {},
   "outputs": [
    {
     "data": {
      "text/plain": [
       "NodeView((2, 4, 5))"
      ]
     },
     "execution_count": 20,
     "metadata": {},
     "output_type": "execute_result"
    }
   ],
   "source": [
    "H.nodes.filterby(\"degree\", 2)  # apply the filter to all nodes"
   ]
  },
  {
   "cell_type": "code",
   "execution_count": 21,
   "id": "302e6674",
   "metadata": {},
   "outputs": [
    {
     "data": {
      "text/plain": [
       "NodeView((2,))"
      ]
     },
     "execution_count": 21,
     "metadata": {},
     "output_type": "execute_result"
    }
   ],
   "source": [
    "H.nodes([1, 2, 3]).filterby(\n",
    "    \"degree\", 2\n",
    ")  # apply the filter only to the subset of nodes [1, 2, 3]"
   ]
  },
  {
   "cell_type": "markdown",
   "id": "9cba86c7",
   "metadata": {},
   "source": [
    "Nodes can be filtered by attribute via the `filterby_attr` method."
   ]
  },
  {
   "cell_type": "code",
   "execution_count": 22,
   "id": "c612ccff",
   "metadata": {},
   "outputs": [
    {
     "data": {
      "text/plain": [
       "NodeView((1, 4))"
      ]
     },
     "execution_count": 22,
     "metadata": {},
     "output_type": "execute_result"
    }
   ],
   "source": [
    "H.nodes.filterby_attr(\"color\", \"red\")"
   ]
  },
  {
   "cell_type": "markdown",
   "id": "69b855ef",
   "metadata": {},
   "source": [
    "Since `filterby*` methods return a `NodeView` object, multiple filters can be chained, as well as other `NodeStat` calls. The following call computes the local clustering coefficient of those nodes with degree equal to 2 and \"color\" attribute equal to \"blue\", and outputs the result as a dict."
   ]
  },
  {
   "cell_type": "code",
   "execution_count": 23,
   "id": "cbdc4409",
   "metadata": {
    "scrolled": true
   },
   "outputs": [
    {
     "data": {
      "text/plain": [
       "{2: 0.6666666666666666, 5: 1.0}"
      ]
     },
     "execution_count": 23,
     "metadata": {},
     "output_type": "execute_result"
    }
   ],
   "source": [
    "(\n",
    "    H.nodes.filterby(\"degree\", 2)\n",
    "    .filterby_attr(\"color\", \"blue\")\n",
    "    .clustering_coefficient.asdict()\n",
    ")"
   ]
  },
  {
   "cell_type": "markdown",
   "id": "d830bb95",
   "metadata": {},
   "source": [
    "For example, here is how to access the nodes with maximum degree."
   ]
  },
  {
   "cell_type": "code",
   "execution_count": 24,
   "id": "c8defa14",
   "metadata": {},
   "outputs": [
    {
     "data": {
      "text/plain": [
       "NodeView((3,))"
      ]
     },
     "execution_count": 24,
     "metadata": {},
     "output_type": "execute_result"
    }
   ],
   "source": [
    "H.nodes.filterby(\"degree\", H.nodes.degree.max())"
   ]
  },
  {
   "cell_type": "markdown",
   "id": "cc5df033",
   "metadata": {},
   "source": [
    "## Set operations"
   ]
  },
  {
   "cell_type": "markdown",
   "id": "11548f49",
   "metadata": {},
   "source": [
    "Another way of chaining multiple results of `filterby*` methods is by using set operations. Indeed, chaining two filters is the same as intersecting the results of two separate calls:"
   ]
  },
  {
   "cell_type": "code",
   "execution_count": 25,
   "id": "970da532",
   "metadata": {},
   "outputs": [
    {
     "name": "stdout",
     "output_type": "stream",
     "text": [
      "[2, 5]\n",
      "[2, 5]\n"
     ]
    }
   ],
   "source": [
    "print(H.nodes.filterby(\"degree\", 2).filterby_attr(\"color\", \"blue\"))\n",
    "print(H.nodes.filterby(\"degree\", 2) & H.nodes.filterby_attr(\"color\", \"blue\"))"
   ]
  },
  {
   "cell_type": "markdown",
   "id": "dc0ff694",
   "metadata": {},
   "source": [
    "Other set operations are also supported."
   ]
  },
  {
   "cell_type": "code",
   "execution_count": 26,
   "id": "65c22a67",
   "metadata": {},
   "outputs": [
    {
     "name": "stdout",
     "output_type": "stream",
     "text": [
      "nodes1 - nodes2 = [4]\n",
      "nodes2 - nodes1 = []\n",
      "nodes1 & nodes2 = [2, 5]\n",
      "nodes1 | nodes2 = [2, 4, 5]\n",
      "nodes1 ^ nodes2 = [4]\n"
     ]
    }
   ],
   "source": [
    "nodes1 = H.nodes.filterby(\"degree\", 2)\n",
    "nodes2 = H.nodes.filterby_attr(\"color\", \"blue\")\n",
    "print(f\"nodes1 - nodes2 = {nodes1 - nodes2}\")\n",
    "print(f\"nodes2 - nodes1 = {nodes2 - nodes1}\")\n",
    "print(f\"nodes1 & nodes2 = {nodes1 & nodes2}\")\n",
    "print(f\"nodes1 | nodes2 = {nodes1 | nodes2}\")\n",
    "print(f\"nodes1 ^ nodes2 = {nodes1 ^ nodes2}\")"
   ]
  },
  {
   "cell_type": "markdown",
   "id": "7e81027f",
   "metadata": {},
   "source": [
    "## Edge statistics"
   ]
  },
  {
   "cell_type": "markdown",
   "id": "29d4aa9f",
   "metadata": {},
   "source": [
    "Every feature showcased above (lazy evaluation, type conversion, filtering, set operations, and multi objects) is supported for edge-quantity or edge-attribute mappings, via `EdgeStat` objects."
   ]
  },
  {
   "cell_type": "code",
   "execution_count": 34,
   "id": "3a43de55",
   "metadata": {},
   "outputs": [
    {
     "data": {
      "text/plain": [
       "EdgeStat('order')"
      ]
     },
     "execution_count": 34,
     "metadata": {},
     "output_type": "execute_result"
    }
   ],
   "source": [
    "H.edges.order"
   ]
  },
  {
   "cell_type": "code",
   "execution_count": 35,
   "id": "9e708cda",
   "metadata": {},
   "outputs": [
    {
     "data": {
      "text/plain": [
       "{0: 2, 1: 3, 2: 2}"
      ]
     },
     "execution_count": 35,
     "metadata": {},
     "output_type": "execute_result"
    }
   ],
   "source": [
    "H.edges.order.asdict()"
   ]
  },
  {
   "cell_type": "code",
   "execution_count": 36,
   "id": "29154c7e",
   "metadata": {},
   "outputs": [
    {
     "data": {
      "text/plain": [
       "EdgeView((1,))"
      ]
     },
     "execution_count": 36,
     "metadata": {},
     "output_type": "execute_result"
    }
   ],
   "source": [
    "H.edges.filterby(\"order\", 3)"
   ]
  },
  {
   "cell_type": "code",
   "execution_count": 37,
   "id": "6b319bfc",
   "metadata": {},
   "outputs": [
    {
     "data": {
      "text/html": [
       "<div>\n",
       "<style scoped>\n",
       "    .dataframe tbody tr th:only-of-type {\n",
       "        vertical-align: middle;\n",
       "    }\n",
       "\n",
       "    .dataframe tbody tr th {\n",
       "        vertical-align: top;\n",
       "    }\n",
       "\n",
       "    .dataframe thead th {\n",
       "        text-align: right;\n",
       "    }\n",
       "</style>\n",
       "<table border=\"1\" class=\"dataframe\">\n",
       "  <thead>\n",
       "    <tr style=\"text-align: right;\">\n",
       "      <th></th>\n",
       "      <th>order</th>\n",
       "      <th>size</th>\n",
       "    </tr>\n",
       "  </thead>\n",
       "  <tbody>\n",
       "    <tr>\n",
       "      <th>0</th>\n",
       "      <td>2</td>\n",
       "      <td>3</td>\n",
       "    </tr>\n",
       "    <tr>\n",
       "      <th>1</th>\n",
       "      <td>3</td>\n",
       "      <td>4</td>\n",
       "    </tr>\n",
       "    <tr>\n",
       "      <th>2</th>\n",
       "      <td>2</td>\n",
       "      <td>3</td>\n",
       "    </tr>\n",
       "  </tbody>\n",
       "</table>\n",
       "</div>"
      ],
      "text/plain": [
       "   order  size\n",
       "0      2     3\n",
       "1      3     4\n",
       "2      2     3"
      ]
     },
     "execution_count": 37,
     "metadata": {},
     "output_type": "execute_result"
    }
   ],
   "source": [
    "H.edges.multi([\"order\", \"size\"]).aspandas()"
   ]
  },
  {
   "cell_type": "markdown",
   "id": "82b3317f",
   "metadata": {},
   "source": [
    "## User-defined statistics"
   ]
  },
  {
   "cell_type": "markdown",
   "id": "98b06d7d",
   "metadata": {},
   "source": [
    "Suppose during the course of your research you come up with a new node-level statistic. For the purpose of this tutorial, we are going to define a statistic called `user_degree`. The `user_degree` of a node is simply its standard degree times 10.\n",
    "\n",
    "Since this is also a node-quantity mapping, we would like to give it the same interface as `degree` and all the other `NodeStat`s. The stats package provides a simple way to do this. Simply use the `nodestat_func` decorator."
   ]
  },
  {
   "cell_type": "code",
   "execution_count": 38,
   "id": "fec60de5",
   "metadata": {},
   "outputs": [],
   "source": [
    "@xgi.nodestat_func\n",
    "def user_degree(net, bunch):\n",
    "    \"\"\"The user degree of a bunch of nodes in net.\"\"\"\n",
    "    return {n: 10 * net.degree(n) for n in bunch}"
   ]
  },
  {
   "cell_type": "markdown",
   "id": "b0be4a0d",
   "metadata": {},
   "source": [
    "Now `user_degree` is a valid stat that can be computed on any hypergraph:"
   ]
  },
  {
   "cell_type": "code",
   "execution_count": 39,
   "id": "7409ae74",
   "metadata": {},
   "outputs": [
    {
     "data": {
      "text/plain": [
       "{1: 10, 2: 20, 3: 30, 4: 20, 5: 20}"
      ]
     },
     "execution_count": 39,
     "metadata": {},
     "output_type": "execute_result"
    }
   ],
   "source": [
    "H.nodes.user_degree.asdict()"
   ]
  },
  {
   "cell_type": "markdown",
   "id": "65f4b7bf",
   "metadata": {},
   "source": [
    "Every single feature showcased above is available for use with `user_degree`, including filtering nodes and multi stats objects."
   ]
  },
  {
   "cell_type": "code",
   "execution_count": 40,
   "id": "314751dc",
   "metadata": {},
   "outputs": [
    {
     "data": {
      "text/plain": [
       "NodeView((2, 4, 5))"
      ]
     },
     "execution_count": 40,
     "metadata": {},
     "output_type": "execute_result"
    }
   ],
   "source": [
    "H.nodes.filterby(\"user_degree\", 20)"
   ]
  },
  {
   "cell_type": "markdown",
   "id": "432346e6",
   "metadata": {},
   "source": [
    "The `@xgi.nodestat_func` decorator works on any function or callable that admits two parameters: `net` and `bunch`, where `net` is the network and `bunch` is an iterable of nodes in `net`. Additionally, the function must return a dictionary with pairs of the form `node: value`, where `node` is an element of `bunch`. The library will take care of type conversions, but the output value of this function must always be a dict."
   ]
  },
  {
   "cell_type": "markdown",
   "id": "60251fad",
   "metadata": {},
   "source": [
    "User-defined edge statistics can similarly be defined using the `@xgi.edgestat` decorator."
   ]
  },
  {
   "cell_type": "markdown",
   "id": "c543ef01",
   "metadata": {},
   "source": [
    "## Challenge\n",
    "\n",
    "* Find the number of recipes in `kaggle-whats-cooking` with more than 5 ingredients\n",
    "* Find the number of ingredients that are only used once. What are they?\n",
    "* Make a histogram of the edge size. What is the most common number of ingredients in a recipe?\n",
    "* Extra: Copy the `user_degree` function above and modify it so that it weights each edge by the inverse of its size, i.e.,\n",
    "$k_i = \\sum_{e\\in E} {\\bf 1}_{i\\in e} / |e|$\n",
    "Output this custom degree for `kaggle-whats-cooking` in dictionary form.\n",
    "* What is the maximum and minimum number of ingredients?\n",
    "* What is the most popular ingredient?"
   ]
  }
 ],
 "metadata": {
  "kernelspec": {
   "display_name": "Python 3.10.6 ('venv': venv)",
   "language": "python",
   "name": "python3"
  },
  "language_info": {
   "codemirror_mode": {
    "name": "ipython",
    "version": 3
   },
   "file_extension": ".py",
   "mimetype": "text/x-python",
   "name": "python",
   "nbconvert_exporter": "python",
   "pygments_lexer": "ipython3",
   "version": "3.11.3"
  },
  "vscode": {
   "interpreter": {
    "hash": "78db47bee367e3fae825d59af43d695909ce208402094df58551906768c6e91c"
   }
  }
 },
 "nbformat": 4,
 "nbformat_minor": 5
}
