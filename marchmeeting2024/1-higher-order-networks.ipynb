{
 "cells": [
  {
   "attachments": {},
   "cell_type": "markdown",
   "id": "d9a693a4",
   "metadata": {},
   "source": [
    "# Higher-order networks\n",
    "\n",
    "In this notebook, we will\n",
    "1. Create\n",
    "   1. Hypergraphs\n",
    "   2. Simplicial complexes\n",
    "   3. Dihypergraphs\n",
    "2. Explore simple properties\n",
    "3. Visualize these networks\n",
    "\n",
    "in XGI.\n",
    "\n",
    "We start off by loading the XGI library."
   ]
  },
  {
   "cell_type": "code",
   "execution_count": 1,
   "id": "10ef8ee6",
   "metadata": {},
   "outputs": [],
   "source": [
    "import xgi\n",
    "import matplotlib.pyplot as plt"
   ]
  },
  {
   "cell_type": "code",
   "execution_count": 2,
   "id": "cdc1d4ad",
   "metadata": {},
   "outputs": [
    {
     "data": {
      "text/plain": [
       "'0.8.2'"
      ]
     },
     "execution_count": 2,
     "metadata": {},
     "output_type": "execute_result"
    }
   ],
   "source": [
    "xgi.__version__"
   ]
  },
  {
   "attachments": {},
   "cell_type": "markdown",
   "id": "623e2a3e",
   "metadata": {},
   "source": [
    "### Creating a hypergraph\n",
    "\n",
    "Creating a hypergraph can be done in several ways, but here, we will build a hypergraph node-by-node and edge-by-edge."
   ]
  },
  {
   "cell_type": "code",
   "execution_count": 3,
   "id": "2408e290",
   "metadata": {},
   "outputs": [],
   "source": [
    "H_build = xgi.Hypergraph()\n",
    "H_build.add_edge([1, 2], id=\"a\")\n",
    "H_build.add_node(0)\n",
    "H_build.add_edges_from([[3, 4], [0, 2, 3]])\n",
    "H_build.add_nodes_from([9, 10])"
   ]
  },
  {
   "attachments": {},
   "cell_type": "markdown",
   "id": "d73f3ab2",
   "metadata": {},
   "source": [
    "XGI automatically assigns unique edge IDs (if a user doesn't specify the ID)"
   ]
  },
  {
   "cell_type": "code",
   "execution_count": 4,
   "id": "3613d000",
   "metadata": {},
   "outputs": [
    {
     "data": {
      "text/plain": [
       "EdgeView(('a', 0, 1))"
      ]
     },
     "execution_count": 4,
     "metadata": {},
     "output_type": "execute_result"
    }
   ],
   "source": [
    "H_build.edges"
   ]
  },
  {
   "attachments": {},
   "cell_type": "markdown",
   "id": "717a32cf",
   "metadata": {},
   "source": [
    "Why NodeViews and EdgeViews? These allow users to access many different properties and data structures from nodes and edges in a much simpler way. We will cover this more in depth later. For now, we can get the edges of which each node is a part and the nodes in each edge as follows:"
   ]
  },
  {
   "cell_type": "code",
   "execution_count": 5,
   "id": "c618893a",
   "metadata": {},
   "outputs": [
    {
     "name": "stdout",
     "output_type": "stream",
     "text": [
      "List of node memberships and edge members:\n",
      "{1: {'a'}, 2: {1, 'a'}, 0: {1}, 3: {0, 1}, 4: {0}, 9: set(), 10: set()}\n",
      "[{1, 2}, {3, 4}, {0, 2, 3}]\n",
      "\n",
      "Memberships of a particular node and members of a particular edge:\n",
      "{1, 'a'}\n",
      "{1, 2}\n"
     ]
    }
   ],
   "source": [
    "print(\"List of node memberships and edge members:\")\n",
    "print(H_build.nodes.memberships())\n",
    "print(H_build.edges.members())\n",
    "print(\"\\nMemberships of a particular node and members of a particular edge:\")\n",
    "print(H_build.nodes.memberships(2))\n",
    "print(H_build.edges.members(\"a\"))"
   ]
  },
  {
   "cell_type": "code",
   "execution_count": 6,
   "id": "15a40e5b",
   "metadata": {},
   "outputs": [
    {
     "name": "stdout",
     "output_type": "stream",
     "text": [
      "Unnamed Hypergraph with 7 nodes and 3 hyperedges\n"
     ]
    }
   ],
   "source": [
    "print(H_build)"
   ]
  },
  {
   "cell_type": "markdown",
   "id": "1d60660d",
   "metadata": {},
   "source": [
    "### Creating a simplicial complex\n",
    "\n",
    "By definition, a simplicial complex $K$ is valid if for any simplex $\\sigma \\in K$, all faces $\\omega \\subset \\sigma$ are also $\\omega \\in K$. The functions ``SC.add_simplex`` and ``SC.add_simplices_from`` take care of this directly.\n",
    "\n",
    "We can check this easily by asking how many edges are present in the simplicial complex versus the hypergraph.\n",
    "Previously, when we added the simplex/hyperedge ``[0, 2, 3]``, there were no sub-edges. The closure requirement means that the three edges (``[0, 2], [0, 3], [2, 3]``) must be added as well.\n",
    "\n",
    "We will build a simplicial complex node-by-node and edge-by-edge. This is different than a hypergraph in that *downward closure* is satisfied where every possible sub-interaction exists."
   ]
  },
  {
   "cell_type": "code",
   "execution_count": 7,
   "id": "364f4724",
   "metadata": {},
   "outputs": [],
   "source": [
    "SC_build = xgi.SimplicialComplex()\n",
    "SC_build.add_simplex([1, 2], id=\"a\")\n",
    "SC_build.add_node(0)\n",
    "SC_build.add_simplices_from([[3, 4], [0, 2, 3]])\n",
    "SC_build.add_nodes_from([9, 10])"
   ]
  },
  {
   "cell_type": "code",
   "execution_count": 8,
   "id": "49d4b36e",
   "metadata": {},
   "outputs": [
    {
     "name": "stdout",
     "output_type": "stream",
     "text": [
      "Unnamed SimplicialComplex with 7 nodes and 6 simplices\n"
     ]
    }
   ],
   "source": [
    "print(SC_build)"
   ]
  },
  {
   "cell_type": "code",
   "execution_count": 9,
   "id": "369645f7",
   "metadata": {},
   "outputs": [
    {
     "name": "stdout",
     "output_type": "stream",
     "text": [
      "[{1, 2}, {3, 4}, {0, 2, 3}]\n",
      "[{1, 2}, {3, 4}, {0, 2, 3}, {2, 3}, {0, 2}, {0, 3}]\n"
     ]
    }
   ],
   "source": [
    "print(H_build.edges.members())\n",
    "print([set(e) for e in SC_build.edges.members()])"
   ]
  },
  {
   "cell_type": "code",
   "execution_count": 10,
   "metadata": {},
   "outputs": [
    {
     "name": "stderr",
     "output_type": "stream",
     "text": [
      "/Users/nicholaslandry/miniconda3/envs/demo/lib/python3.11/site-packages/xgi/linalg/hypergraph_matrix.py:185: UserWarning: Forming the adjacency matrix can be expensive when there are isolated nodes!\n",
      "  warn(\n",
      "/Users/nicholaslandry/miniconda3/envs/demo/lib/python3.11/site-packages/xgi/drawing/draw.py:1487: UserWarning: No data for colormapping provided via 'c'. Parameters 'cmap' will be ignored\n",
      "  node_collection = ax.scatter(\n"
     ]
    },
    {
     "data": {
      "image/png": "[encoded data removed]",
      "text/plain": [
       "<Figure size 600x400 with 2 Axes>"
      ]
     },
     "metadata": {},
     "output_type": "display_data"
    }
   ],
   "source": [
    "fig = plt.figure(figsize=(6, 4))\n",
    "pos = xgi.pairwise_spring_layout(H_build, seed=0)\n",
    "ax1 = fig.add_subplot(1, 2, 1, projection='3d')\n",
    "xgi.draw_multilayer(H_build, ax=ax1, pos=pos, h_angle=15, v_angle=45)\n",
    "ax2 = fig.add_subplot(1, 2, 2, projection='3d')\n",
    "xgi.draw_multilayer(SC_build, ax=ax2, pos=pos, h_angle=15, v_angle=45)\n",
    "plt.show()"
   ]
  },
  {
   "cell_type": "markdown",
   "id": "d1d71273",
   "metadata": {},
   "source": [
    "### Creating a directed hypergraph (dihypergraph)\n",
    "\n",
    "We will build a directed hypergraph node-by-node and edge-by-edge. Each edge now contains a set of inputs (tail) and outputs (head)."
   ]
  },
  {
   "cell_type": "code",
   "execution_count": 11,
   "id": "9074e7af",
   "metadata": {},
   "outputs": [
    {
     "name": "stdout",
     "output_type": "stream",
     "text": [
      "Now that we've added nodes and edges, we have a DiHypergraph named test with 6 nodes and 3 hyperedges\n"
     ]
    }
   ],
   "source": [
    "DH = xgi.DiHypergraph()\n",
    "\n",
    "DH.add_node(1, name=\"test\")\n",
    "DH.add_edge(\n",
    "    [{1, 2, 3}, {3, 4}]\n",
    ")  # Notice that the head and the tail need not be disjoint.\n",
    "\n",
    "DH.add_nodes_from([4, 5, 6])\n",
    "edges = [[{1, 2}, {5, 6}], [{4}, {1, 3}]]\n",
    "DH.add_edges_from(edges)\n",
    "DH[\"name\"] = \"test\"\n",
    "\n",
    "print(\"Now that we've added nodes and edges, we have a \" + str(DH))\n"
   ]
  },
  {
   "cell_type": "code",
   "execution_count": 12,
   "id": "020b9075",
   "metadata": {},
   "outputs": [
    {
     "data": {
      "text/plain": [
       "(<Axes: >,\n",
       " (<matplotlib.collections.PathCollection at 0x177b65e50>,\n",
       "  <matplotlib.collections.PathCollection at 0x177b6ea10>))"
      ]
     },
     "execution_count": 12,
     "metadata": {},
     "output_type": "execute_result"
    },
    {
     "data": {
      "image/png": "[encoded data removed]",
      "text/plain": [
       "<Figure size 640x480 with 1 Axes>"
      ]
     },
     "metadata": {},
     "output_type": "display_data"
    }
   ],
   "source": [
    "xgi.draw_dihypergraph(DH, node_labels=True, node_size=15)"
   ]
  },
  {
   "cell_type": "code",
   "execution_count": 13,
   "id": "3cd6fd9b",
   "metadata": {},
   "outputs": [
    {
     "name": "stdout",
     "output_type": "stream",
     "text": [
      "Edge 0:\n",
      "directed edge: ({1, 2, 3}, {3, 4})\n",
      "undirected edge: {1, 2, 3, 4}\n",
      "tail: {1, 2, 3}\n",
      "head: {3, 4}\n"
     ]
    }
   ],
   "source": [
    "print(\"Edge 0:\")\n",
    "print(f\"directed edge: {DH.edges.dimembers(0)}\")\n",
    "print(f\"undirected edge: {DH.edges.members(0)}\")\n",
    "print(f\"tail: {DH.edges.tail(0)}\")\n",
    "print(f\"head: {DH.edges.head(0)}\")"
   ]
  }
 ],
 "metadata": {
  "kernelspec": {
   "display_name": "demo",
   "language": "python",
   "name": "python3"
  },
  "language_info": {
   "codemirror_mode": {
    "name": "ipython",
    "version": 3
   },
   "file_extension": ".py",
   "mimetype": "text/x-python",
   "name": "python",
   "nbconvert_exporter": "python",
   "pygments_lexer": "ipython3",
   "version": "3.11.3"
  }
 },
 "nbformat": 4,
 "nbformat_minor": 5
}
