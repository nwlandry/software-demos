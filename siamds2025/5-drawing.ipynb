{
 "cells": [
  {
   "cell_type": "markdown",
   "id": "2f6ce3a3",
   "metadata": {},
   "source": [
    "# Visualizing hypergraphs"
   ]
  },
  {
   "cell_type": "markdown",
   "id": "fd2763c0",
   "metadata": {},
   "source": [
    "Visualizing hypergraphs, just like pairwise networks, is a hard task and no algorithm can work nicely for any given input structure. Here, we show how to visualize some toy structures using the visualization function contained in the ```drawing``` module that is often inspired by [networkx](https://networkx.org/documentation/stable/reference/drawing.html) and relies on [matplotlib](https://matplotlib.org/)."
   ]
  },
  {
   "cell_type": "code",
   "execution_count": null,
   "id": "f9ca745a",
   "metadata": {},
   "outputs": [],
   "source": [
    "import matplotlib.pyplot as plt\n",
    "import numpy as np\n",
    "import xgi"
   ]
  },
  {
   "cell_type": "markdown",
   "id": "dbdb17b5",
   "metadata": {},
   "source": [
    "## Basics"
   ]
  },
  {
   "cell_type": "markdown",
   "id": "079db54c",
   "metadata": {},
   "source": [
    "Les us first create a small toy hypergraph containing edges of different sizes."
   ]
  },
  {
   "cell_type": "code",
   "execution_count": null,
   "id": "b014762e",
   "metadata": {},
   "outputs": [],
   "source": [
    "H = xgi.Hypergraph()\n",
    "H.add_edges_from(\n",
    "    [[1, 2, 3], [3, 4, 5], [3, 6], [6, 7, 8, 9], [1, 4, 10, 11, 12], [1, 4]]\n",
    ")"
   ]
  },
  {
   "cell_type": "markdown",
   "id": "edeaffc6",
   "metadata": {},
   "source": [
    "It can be quickly visualized simply with"
   ]
  },
  {
   "cell_type": "code",
   "execution_count": null,
   "id": "aeddd8cf",
   "metadata": {},
   "outputs": [],
   "source": [
    "xgi.draw(H)"
   ]
  },
  {
   "cell_type": "markdown",
   "id": "0dd0995b",
   "metadata": {},
   "source": [
    "By default, the **layout** is computed by ```xgi.barycenter_spring_layout```. For a bit more control, \n",
    "we can compute a layout externally (that we fix with a random seed), so that we can reuse it:"
   ]
  },
  {
   "cell_type": "code",
   "execution_count": null,
   "id": "ce657757",
   "metadata": {},
   "outputs": [],
   "source": [
    "pos = xgi.barycenter_spring_layout(H, seed=1)\n",
    "\n",
    "fig, ax = plt.subplots()\n",
    "xgi.draw(H, pos=pos, ax=ax)"
   ]
  },
  {
   "cell_type": "markdown",
   "id": "e9fea60b",
   "metadata": {},
   "source": [
    "**Labels** can be added to the nodes and hyperedges with arguments `node_labels` and `hyperedge_labels`. If ```True```, the IDs are shown. To display user-defined labels, pass a dictionary that contains (id: label). Additional keywords related to the font can be passed as well:"
   ]
  },
  {
   "cell_type": "code",
   "execution_count": null,
   "id": "71e92023",
   "metadata": {
    "scrolled": false
   },
   "outputs": [],
   "source": [
    "xgi.draw(H, pos, node_labels=True, node_size=15, hyperedge_labels=True)\n",
    "plt.show()"
   ]
  },
  {
   "cell_type": "markdown",
   "id": "baeb2ca5",
   "metadata": {},
   "source": [
    "Note that by default, the nodes are drawn too small (size 7) to display the labels nicely. For better visuals, increase the node size to at least 15 when displaying node labels."
   ]
  },
  {
   "cell_type": "markdown",
   "id": "6380e129",
   "metadata": {},
   "source": [
    "## Other types of visualizations "
   ]
  },
  {
   "cell_type": "markdown",
   "id": "9c7eff7e",
   "metadata": {},
   "source": [
    "Another common way of visualizing hypergraph is with **convex hulls** as hyperedges. This can be done simply by setting `hull=True`:"
   ]
  },
  {
   "cell_type": "code",
   "execution_count": null,
   "id": "bd072a89",
   "metadata": {},
   "outputs": [],
   "source": [
    "fig, ax = plt.subplots()\n",
    "xgi.draw(H, pos=pos, ax=ax, hull=True)\n",
    "\n",
    "plt.show()"
   ]
  },
  {
   "cell_type": "markdown",
   "id": "93caa97a",
   "metadata": {},
   "source": [
    "XGI also offer a function to visualize a hypergraph as a **multilayer**, where each layer contains hyperedges of a given order:"
   ]
  },
  {
   "cell_type": "code",
   "execution_count": null,
   "id": "1830fdcf",
   "metadata": {},
   "outputs": [],
   "source": [
    "ax3 = plt.axes(projection=\"3d\")  # requires a 3d axis\n",
    "xgi.draw_multilayer(H, ax=ax3, node_fc=H.nodes.degree)\n",
    "\n",
    "plt.show()"
   ]
  },
  {
   "cell_type": "markdown",
   "id": "417c3dc6",
   "metadata": {},
   "source": [
    "## Colors and sizes"
   ]
  },
  {
   "cell_type": "markdown",
   "id": "7895f303",
   "metadata": {},
   "source": [
    "The drawing functions offer great flexibility in choosing the width, size, and color of the elements that are drawn. \n",
    "\n",
    "By default, hyperedges are colored according to their order. Hyperedge and node colors can be set manually to a single color, a list of colors, or a by an array/dict/Stat of numerical values. \n",
    "\n",
    "In the latter case, numerical values are mapped to colors via a colormap which can be changed manually (see [colormaps](https://matplotlib.org/stable/tutorials/colors/colormaps.html) for details):"
   ]
  },
  {
   "cell_type": "markdown",
   "id": "fd9f3dd3",
   "metadata": {},
   "source": [
    "First, let's use single values:"
   ]
  },
  {
   "cell_type": "code",
   "execution_count": null,
   "id": "14760ec1",
   "metadata": {},
   "outputs": [],
   "source": [
    "fig, ax = plt.subplots()\n",
    "\n",
    "xgi.draw(\n",
    "    H,\n",
    "    pos=pos,\n",
    "    ax=ax,\n",
    "    node_fc=\"k\",\n",
    "    node_ec=\"beige\",\n",
    "    node_shape=\"s\",\n",
    "    node_size=10,\n",
    "    node_lw=2,\n",
    "    edge_fc=\"salmon\",\n",
    "    dyad_color=\"grey\",\n",
    "    dyad_lw=3,\n",
    ")\n",
    "\n",
    "plt.show()"
   ]
  },
  {
   "cell_type": "markdown",
   "id": "574a8783",
   "metadata": {},
   "source": [
    "Now we can use statistic to set the colors and sizes, and change the colormaps:"
   ]
  },
  {
   "cell_type": "code",
   "execution_count": null,
   "id": "470d186c",
   "metadata": {},
   "outputs": [],
   "source": [
    "fig, ax = plt.subplots(figsize=(6, 2.5))\n",
    "\n",
    "ax, collections = xgi.draw(\n",
    "    H,\n",
    "    pos=pos,\n",
    "    node_fc=H.nodes.degree,\n",
    "    edge_fc=H.edges.size,\n",
    "    edge_fc_cmap=\"viridis\",\n",
    "    node_fc_cmap=\"mako_r\",\n",
    ")\n",
    "\n",
    "node_col, _, edge_col = collections\n",
    "\n",
    "plt.colorbar(node_col, label=\"Node degree\")\n",
    "plt.colorbar(edge_col, label=\"Edge size\")\n",
    "\n",
    "plt.show()"
   ]
  },
  {
   "cell_type": "markdown",
   "id": "acb356bd",
   "metadata": {},
   "source": [
    "## Layouts"
   ]
  },
  {
   "cell_type": "markdown",
   "id": "6e1c844a",
   "metadata": {},
   "source": [
    "Other layout algorithms are available:\n",
    "* ```random_layout```: position nodes uniformly at random in the unit square.\n",
    "* ```pairwise_spring_layout```: to position the nodes using the Fruchterman-Reingold force-directed algorithm on the projected graph. \n",
    "* ```barycenter_spring_layout```: position the nodes using the Fruchterman-Reingold force-directed algorithm using an augmented version of the the graph projection of the hypergraph, where _phantom nodes_ (that we call barycenters) are created for each edge of order $d>1$ (composed of more than two nodes). Weights are then assigned to all hyperedges of order 1 (links) and to all connections to phantom nodes within each hyperedge to keep them together. Weights scale with the size of the hyperedges.\n",
    "* ```weighted_barycenter_spring_layout```: same as ```barycenter_spring_layout```, but here the weighted version of the Fruchterman-Reingold force-directed algorithm is used.\n",
    "* ```barycenter_kamada_kawai```: position nodes using Kamada-Kawai path-length cost-function using an augmented version of the the graph projection of the hypergraph.\n",
    "* ```circular_layout```: position nodes on a circle.\n",
    "* ```spiral_layout```: position nodes in a spiral layout.\n",
    "\n",
    "Each layout returns a dictionary that maps nodes ID into (x, y) coordinates."
   ]
  },
  {
   "cell_type": "markdown",
   "id": "ac104906",
   "metadata": {},
   "source": [
    "For example:"
   ]
  },
  {
   "cell_type": "code",
   "execution_count": null,
   "id": "896e32db",
   "metadata": {},
   "outputs": [],
   "source": [
    "plt.figure(figsize=(10, 4))\n",
    "\n",
    "ax = plt.subplot(1, 2, 1)\n",
    "pos_circular = xgi.circular_layout(H)\n",
    "xgi.draw(H, pos=pos_circular, ax=ax)\n",
    "\n",
    "ax = plt.subplot(1, 2, 2)\n",
    "pos_spiral = xgi.spiral_layout(H)\n",
    "xgi.draw(H, pos=pos_spiral, ax=ax)"
   ]
  },
  {
   "cell_type": "markdown",
   "id": "d74eb070",
   "metadata": {},
   "source": [
    "## Simplicial complexes"
   ]
  },
  {
   "cell_type": "markdown",
   "id": "08b10904",
   "metadata": {},
   "source": [
    "Simplicial complexes can be visualized using the same functions as for Hypergraphs.\n",
    "\n",
    "**Technical note:**\n",
    "By definition, a simplicial complex object contains all sub-simplices. This would make the visualization heavy since all sub-simplices contained in a maximal simplex would overlap. The automatic solution for this, implemented by default in all the layouts, is to convert the simplicial complex into a hypergraph composed solely by its maximal simplices.\n",
    "\n",
    "**Visual note:**\n",
    "To visually distinguish simplicial complexes from hypergraphs, the ```draw``` function will also show all links contained in each maximal simplices (while omitting simplices of intermediate orders). "
   ]
  },
  {
   "cell_type": "code",
   "execution_count": null,
   "id": "6f04461d",
   "metadata": {},
   "outputs": [],
   "source": [
    "SC = xgi.SimplicialComplex()\n",
    "SC.add_simplices_from([[3, 4, 5], [3, 6], [6, 7, 8, 9], [1, 4, 10, 11, 12], [1, 4]])"
   ]
  },
  {
   "cell_type": "code",
   "execution_count": null,
   "id": "895bf3d3",
   "metadata": {},
   "outputs": [],
   "source": [
    "pos = xgi.barycenter_spring_layout(SC, seed=1)"
   ]
  },
  {
   "cell_type": "code",
   "execution_count": null,
   "id": "2b8edb7d",
   "metadata": {},
   "outputs": [],
   "source": [
    "xgi.draw(SC, pos=pos)\n",
    "\n",
    "plt.show()"
   ]
  },
  {
   "cell_type": "markdown",
   "id": "22c7ccc8",
   "metadata": {},
   "source": [
    "## Rotating a hypergraph"
   ]
  },
  {
   "cell_type": "markdown",
   "id": "bad32b53",
   "metadata": {},
   "source": [
    "For some hypergraphs, it can be helpful to rotate the positions of the nodes relative to the principal axis. We can do this by generating node positions with any of the functions previously described and then using the function `pca_transform()`. For example:"
   ]
  },
  {
   "cell_type": "code",
   "execution_count": null,
   "id": "71a63d99",
   "metadata": {
    "scrolled": true
   },
   "outputs": [],
   "source": [
    "pos = xgi.barycenter_spring_layout(H, seed=1)\n",
    "\n",
    "transformed_pos = xgi.pca_transform(pos)\n",
    "xgi.draw(H, transformed_pos)\n",
    "\n",
    "plt.show()"
   ]
  },
  {
   "cell_type": "markdown",
   "id": "fc7cf849",
   "metadata": {},
   "source": [
    "We can also rotate the node positions relative to the principal axis:"
   ]
  },
  {
   "cell_type": "code",
   "execution_count": null,
   "id": "5e5ef76d",
   "metadata": {
    "scrolled": true
   },
   "outputs": [],
   "source": [
    "# rotation in degrees\n",
    "transformed_pos = xgi.pca_transform(pos, 30)\n",
    "xgi.draw(H, transformed_pos)\n",
    "\n",
    "plt.show()"
   ]
  },
  {
   "cell_type": "markdown",
   "id": "b5a66cba",
   "metadata": {},
   "source": [
    "## Larger example: generative model\n",
    "We generate and visualize a [random hypergraph](https://doi.org/10.1093/comnet/cnx001)."
   ]
  },
  {
   "cell_type": "code",
   "execution_count": null,
   "id": "aadc6917",
   "metadata": {},
   "outputs": [],
   "source": [
    "n = 100\n",
    "is_connected = False\n",
    "while not is_connected:\n",
    "    H = xgi.fast_random_hypergraph(n, [0.015, 0.0001, 0.000005])\n",
    "    is_connected = xgi.is_connected(H)\n",
    "pos = xgi.barycenter_spring_layout(H, seed=0)"
   ]
  },
  {
   "cell_type": "markdown",
   "id": "d438f01e",
   "metadata": {},
   "source": [
    "Since there are more nodes we reduce the ```node_size```."
   ]
  },
  {
   "cell_type": "code",
   "execution_count": null,
   "id": "f840930c",
   "metadata": {},
   "outputs": [],
   "source": [
    "plt.figure(figsize=(10, 10))\n",
    "ax = plt.subplot(111)\n",
    "xgi.draw(H, pos=pos, ax=ax)"
   ]
  },
  {
   "cell_type": "markdown",
   "id": "39e2d438",
   "metadata": {},
   "source": [
    "We can even size/color the nodes and edges by NodeStats or EdgeStats (e.g., degree, centrality, size, etc.)!"
   ]
  },
  {
   "cell_type": "code",
   "execution_count": null,
   "id": "b2ea6e91",
   "metadata": {},
   "outputs": [],
   "source": [
    "plt.figure(figsize=(10, 10))\n",
    "ax = plt.subplot(111)\n",
    "xgi.draw(\n",
    "    H,\n",
    "    pos,\n",
    "    node_size=H.nodes.degree,\n",
    "    node_lw=H.nodes.average_neighbor_degree,\n",
    "    node_fc=H.nodes.degree,\n",
    "    ax=ax,\n",
    ")"
   ]
  },
  {
   "cell_type": "markdown",
   "id": "6c336fa8",
   "metadata": {},
   "source": [
    "## Degree distribution\n",
    "Using its simplest (higher-order) definition, the degree is the number of hyperedges (of any size) incident on a node."
   ]
  },
  {
   "cell_type": "code",
   "execution_count": null,
   "id": "36596a26",
   "metadata": {},
   "outputs": [],
   "source": [
    "centers, heights = xgi.degree_histogram(H)\n",
    "\n",
    "plt.figure(figsize=(12, 4))\n",
    "ax = plt.subplot(111)\n",
    "\n",
    "ax.bar(centers, heights)\n",
    "ax.set_ylabel(\"Count\")\n",
    "ax.set_xlabel(\"Degree\")\n",
    "ax.set_xticks(np.arange(1, max(centers) + 1, step=1));"
   ]
  },
  {
   "cell_type": "code",
   "execution_count": null,
   "id": "6ac0cf46",
   "metadata": {},
   "outputs": [],
   "source": [
    "plt.close(\"all\")"
   ]
  },
  {
   "cell_type": "markdown",
   "id": "9ab27bcb",
   "metadata": {},
   "source": [
    "## Challenge\n",
    "\n",
    "* Generate a 3-uniform HPPM hypergraph of size 100 with a mean degree of 10 and an imbalance parameter of 0.95. Position the node according to a pairwise spring layout and with the principal axis horizontal. (1) Color the nodes according to the clustering coefficient. (2) Make the node markers square."
   ]
  }
 ],
 "metadata": {
  "kernelspec": {
   "display_name": "xgi",
   "language": "python",
   "name": "python3"
  },
  "language_info": {
   "codemirror_mode": {
    "name": "ipython",
    "version": 3
   },
   "file_extension": ".py",
   "mimetype": "text/x-python",
   "name": "python",
   "nbconvert_exporter": "python",
   "pygments_lexer": "ipython3",
   "version": "3.13.3"
  },
  "toc": {
   "base_numbering": 1,
   "nav_menu": {},
   "number_sections": true,
   "sideBar": true,
   "skip_h1_title": false,
   "title_cell": "Table of Contents",
   "title_sidebar": "Contents",
   "toc_cell": false,
   "toc_position": {},
   "toc_section_display": true,
   "toc_window_display": true
  }
 },
 "nbformat": 4,
 "nbformat_minor": 5
}
