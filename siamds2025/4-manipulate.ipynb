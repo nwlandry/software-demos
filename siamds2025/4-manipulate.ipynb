{
 "cells": [
  {
   "cell_type": "markdown",
   "metadata": {},
   "source": [
    "# Manipulating higher-order datasets\n",
    "\n",
    "In this notebook, we will demonstrate how to manipulate higher-order datasets by\n",
    "* converting higher-order datasets into different representations\n",
    "* getting subsets of nodes and edges"
   ]
  },
  {
   "cell_type": "code",
   "execution_count": 1,
   "metadata": {},
   "outputs": [],
   "source": [
    "import matplotlib.pyplot as plt\n",
    "import networkx as nx\n",
    "import xgi"
   ]
  },
  {
   "cell_type": "code",
   "execution_count": null,
   "metadata": {},
   "outputs": [],
   "source": [
    "H = xgi.load_xgi_data(\"email-enron\")\n",
    "H.cleanup()"
   ]
  },
  {
   "cell_type": "markdown",
   "metadata": {},
   "source": [
    "## Converting between different representations"
   ]
  },
  {
   "cell_type": "markdown",
   "metadata": {},
   "source": [
    "### Incidence matrix\n",
    "\n",
    "The incidence matrix of a hypergraph is "
   ]
  },
  {
   "cell_type": "code",
   "execution_count": null,
   "metadata": {},
   "outputs": [],
   "source": [
    "I = xgi.incidence_matrix(H, sparse=False)\n",
    "plt.spy(I, aspect=\"auto\")\n",
    "plt.xlabel(\"Hyperedges\", fontsize=16)\n",
    "plt.ylabel(\"Nodes\", fontsize=16)\n",
    "plt.show()"
   ]
  },
  {
   "cell_type": "markdown",
   "metadata": {},
   "source": [
    "### Bipartite network"
   ]
  },
  {
   "cell_type": "code",
   "execution_count": null,
   "metadata": {},
   "outputs": [],
   "source": [
    "G, index1, index2 = xgi.to_bipartite_graph(H, index=True)\n",
    "nx.draw(G, node_color=\"black\", node_size=10, width=0.5)"
   ]
  },
  {
   "cell_type": "markdown",
   "metadata": {},
   "source": [
    "### Adjacency matrix"
   ]
  },
  {
   "cell_type": "code",
   "execution_count": null,
   "metadata": {},
   "outputs": [],
   "source": [
    "A = xgi.adjacency_matrix(H, sparse=False)\n",
    "plt.spy(A)\n",
    "plt.xlabel(\"Nodes\", fontsize=16)\n",
    "plt.ylabel(\"Nodes\", fontsize=16)"
   ]
  },
  {
   "cell_type": "markdown",
   "metadata": {},
   "source": [
    "### Line graph"
   ]
  },
  {
   "cell_type": "code",
   "execution_count": null,
   "metadata": {},
   "outputs": [],
   "source": [
    "G = xgi.to_line_graph(H, s=2)\n",
    "nx.draw(G, node_color=\"black\", node_size=10, width=0.5)"
   ]
  },
  {
   "cell_type": "markdown",
   "metadata": {},
   "source": [
    "### The dual of a hypergraph\n",
    "\n",
    "The *dual* of a hypergraph, $H = (V, E)$ is obtained by mapping its nodes to edges and edges to nodes. The resulting hypergraph should now have $|E|$ nodes and $|V|$ edges."
   ]
  },
  {
   "cell_type": "code",
   "execution_count": null,
   "metadata": {},
   "outputs": [],
   "source": [
    "D = H.dual()\n",
    "print(D)"
   ]
  },
  {
   "cell_type": "markdown",
   "metadata": {},
   "source": [
    "## Getting subsets of the nodes and edges"
   ]
  },
  {
   "cell_type": "markdown",
   "metadata": {},
   "source": [
    "`subhypergraph` is a method for returning a hypergraph built from subsets of nodes and edges. This object is read-only."
   ]
  },
  {
   "cell_type": "code",
   "execution_count": null,
   "metadata": {},
   "outputs": [],
   "source": [
    "# A subhypergraph induced on nodes\n",
    "node_subhypergraph = xgi.subhypergraph(H, nodes=list(range(100)))\n",
    "# A subhypergraph induced on edges\n",
    "edge_subhypergraph = xgi.subhypergraph(H, edges=list(range(100)))\n",
    "# A subhypergraph induced on both nodes and edges\n",
    "arbitrary_subhypergraph = xgi.subhypergraph(\n",
    "    H, nodes=list(range(100)), edges=list(range(100))\n",
    ")"
   ]
  },
  {
   "cell_type": "code",
   "execution_count": null,
   "metadata": {},
   "outputs": [],
   "source": [
    "# Frozen hypergraphs are read-only!\n",
    "# arbitrary_subhypergraph.add_node(\"test\")"
   ]
  },
  {
   "cell_type": "markdown",
   "metadata": {},
   "source": [
    "We can get around the read-only by copying:"
   ]
  },
  {
   "cell_type": "code",
   "execution_count": null,
   "metadata": {},
   "outputs": [],
   "source": [
    "hcopy = arbitrary_subhypergraph.copy()\n",
    "hcopy.add_node(\"test\")"
   ]
  },
  {
   "cell_type": "markdown",
   "metadata": {},
   "source": [
    "We can also select subsets of nodes and edges by calling `H.nodes(<subsets of nodes>)` and `H.edges(<subsets of edges>)`"
   ]
  },
  {
   "cell_type": "code",
   "execution_count": null,
   "metadata": {},
   "outputs": [],
   "source": [
    "H.nodes([0, 1, 2])"
   ]
  },
  {
   "cell_type": "code",
   "execution_count": null,
   "metadata": {},
   "outputs": [],
   "source": [
    "H.edges([1])"
   ]
  },
  {
   "cell_type": "markdown",
   "metadata": {},
   "source": [
    "## Challenge\n",
    "* Create a dictionary of hypergraphs from the `diseasome` dataset, each hypergraph containing edges of a single size for each edge size in the original dataset. Verify that only one size is present in each hypergraph.\n",
    "* Cleanup the `email-eu` dataset and then find its dual. Is this dataset connected? Does it contain isolates? Multiedges? Singletons?\n",
    "* Clean the `hospital-lyon` dataset and convert to a simplicial complex. Compute the 2-order Hodge Laplacian and visualize with a `spy` plot.\n",
    "* In the `kaggle-whats-cooking` dataset, create a dictionary of hypergraphs for each of the 20 different types of cuisine, each containing only a single cuisine.\n",
    "  * How many ingredients are unused in each cuisine?\n",
    "  * What is the most used ingredient in each cuisine?\n",
    "  * How many components are in each hypergraph filtered by cuisine?"
   ]
  }
 ],
 "metadata": {
  "kernelspec": {
   "display_name": "xgi",
   "language": "python",
   "name": "python3"
  },
  "language_info": {
   "codemirror_mode": {
    "name": "ipython",
    "version": 3
   },
   "file_extension": ".py",
   "mimetype": "text/x-python",
   "name": "python",
   "nbconvert_exporter": "python",
   "pygments_lexer": "ipython3",
   "version": "3.13.3"
  }
 },
 "nbformat": 4,
 "nbformat_minor": 2
}
