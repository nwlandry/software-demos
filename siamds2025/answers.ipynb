{
 "cells": [
  {
   "cell_type": "code",
   "execution_count": null,
   "metadata": {},
   "outputs": [],
   "source": [
    "import matplotlib.pyplot as plt\n",
    "import numpy as np\n",
    "import xgi"
   ]
  },
  {
   "cell_type": "markdown",
   "metadata": {},
   "source": [
    "## Notebook 1"
   ]
  },
  {
   "cell_type": "code",
   "execution_count": null,
   "metadata": {},
   "outputs": [],
   "source": [
    "H = xgi.Hypergraph()\n",
    "H.add_nodes_from([\"A\", \"B\", \"C\", \"D\"])\n",
    "H.add_edges_from([{\"A\", \"B\"}, {\"A\", \"B\", \"C\"}])\n",
    "print(H)"
   ]
  },
  {
   "cell_type": "code",
   "execution_count": null,
   "metadata": {},
   "outputs": [],
   "source": [
    "DH = xgi.DiHypergraph()\n",
    "DH.add_edge([{\"A\", \"B\"}, {\"C\", \"D\"}])\n",
    "print(DH)"
   ]
  },
  {
   "cell_type": "markdown",
   "metadata": {},
   "source": [
    "## Notebook 2"
   ]
  },
  {
   "cell_type": "code",
   "execution_count": null,
   "metadata": {},
   "outputs": [],
   "source": [
    "H = xgi.load_xgi_data(\"contact-high-school\")\n",
    "m1 = H.num_edges\n",
    "\n",
    "H.cleanup(\n",
    "    isolates=True,\n",
    "    singletons=True,\n",
    "    multiedges=False,\n",
    "    connected=False,\n",
    "    relabel=False,\n",
    "    in_place=True,\n",
    ")\n",
    "m2 = H.num_edges\n",
    "\n",
    "multiplicity = m1 / m2\n",
    "print(multiplicity)"
   ]
  },
  {
   "cell_type": "code",
   "execution_count": null,
   "metadata": {},
   "outputs": [],
   "source": [
    "H = xgi.load_xgi_data(\"congress-bills\", max_order=10)\n",
    "xgi.write_edgelist(H, \"edgelist.txt\", delimiter=\"\\t\")"
   ]
  },
  {
   "cell_type": "markdown",
   "metadata": {},
   "source": [
    "## Notebook 3"
   ]
  },
  {
   "cell_type": "code",
   "execution_count": null,
   "metadata": {},
   "outputs": [],
   "source": [
    "H = xgi.load_xgi_data(\"kaggle-whats-cooking\")"
   ]
  },
  {
   "cell_type": "code",
   "execution_count": null,
   "metadata": {},
   "outputs": [],
   "source": [
    "len(H.edges.filterby(\"size\", 5, \"gt\"))"
   ]
  },
  {
   "cell_type": "code",
   "execution_count": null,
   "metadata": {},
   "outputs": [],
   "source": [
    "len(H.nodes.filterby(\"degree\", 1))"
   ]
  },
  {
   "cell_type": "code",
   "execution_count": null,
   "metadata": {},
   "outputs": [],
   "source": [
    "sizes = H.edges.size.asnumpy()\n",
    "plt.hist(sizes, bins=np.arange(60))\n",
    "plt.show()"
   ]
  },
  {
   "cell_type": "code",
   "execution_count": null,
   "metadata": {},
   "outputs": [],
   "source": [
    "@xgi.nodestat_func\n",
    "def user_degree(net, bunch):\n",
    "    \"\"\"The user degree of a bunch of nodes in net.\"\"\"\n",
    "    return {\n",
    "        n: sum(1.0 / net.edges.size[i] for i in net.nodes.memberships(n)) for n in bunch\n",
    "    }"
   ]
  },
  {
   "cell_type": "code",
   "execution_count": null,
   "metadata": {},
   "outputs": [],
   "source": [
    "H.nodes.user_degree.asdict()"
   ]
  },
  {
   "cell_type": "code",
   "execution_count": null,
   "metadata": {},
   "outputs": [],
   "source": [
    "H.nodes.degree.asdict()"
   ]
  },
  {
   "cell_type": "code",
   "execution_count": null,
   "metadata": {},
   "outputs": [],
   "source": [
    "print(\n",
    "    f\"The minimum and maximum number of ingredients are {H.edges.size.min()} and {H.edges.size.max()}, respectively\"\n",
    ")"
   ]
  },
  {
   "cell_type": "code",
   "execution_count": null,
   "metadata": {},
   "outputs": [],
   "source": [
    "d = H.nodes.degree.asdict()\n",
    "id = max(d, key=d.get)\n",
    "print(f\"The most popular ingredient is {H.nodes[id]['name']}.\")"
   ]
  },
  {
   "cell_type": "markdown",
   "metadata": {},
   "source": [
    "## Notebook 4"
   ]
  },
  {
   "cell_type": "code",
   "execution_count": null,
   "metadata": {},
   "outputs": [],
   "source": [
    "H = xgi.load_xgi_data(\"diseasome\")\n",
    "edge_sizes = xgi.unique_edge_sizes(H)\n",
    "\n",
    "data = dict()\n",
    "for s in edge_sizes:\n",
    "    ids = H.edges.filterby(\"size\", s)\n",
    "    data[s] = xgi.subhypergraph(H, edges=ids)"
   ]
  },
  {
   "cell_type": "code",
   "execution_count": null,
   "metadata": {},
   "outputs": [],
   "source": [
    "for s, h in data.items():\n",
    "    print(s)\n",
    "    print(xgi.unique_edge_sizes(h))"
   ]
  },
  {
   "cell_type": "code",
   "execution_count": null,
   "metadata": {},
   "outputs": [],
   "source": [
    "H = xgi.load_xgi_data(\"email-eu\")\n",
    "H.cleanup()\n",
    "D = H.dual()"
   ]
  },
  {
   "cell_type": "code",
   "execution_count": null,
   "metadata": {},
   "outputs": [],
   "source": [
    "print(f\"The number of singletons is {len(D.edges.singletons())}\")\n",
    "print(f\"The number of isolates is {len(D.nodes.isolates())}\")\n",
    "print(f\"The number of multiedges is {len(D.edges.duplicates())}\")\n",
    "print(f\"Is the dual connected? {xgi.is_connected(D)}\")"
   ]
  },
  {
   "cell_type": "code",
   "execution_count": null,
   "metadata": {},
   "outputs": [],
   "source": [
    "H = xgi.load_xgi_data(\"hospital-lyon\")\n",
    "H.cleanup()\n",
    "SC = xgi.SimplicialComplex(H)\n",
    "\n",
    "L = xgi.hodge_laplacian(SC, order=2)"
   ]
  },
  {
   "cell_type": "code",
   "execution_count": null,
   "metadata": {},
   "outputs": [],
   "source": [
    "plt.spy(L)\n",
    "plt.xlabel(\"order-2 simplices\")\n",
    "plt.ylabel(\"order-2 simplices\")"
   ]
  },
  {
   "cell_type": "code",
   "execution_count": null,
   "metadata": {},
   "outputs": [],
   "source": [
    "H = xgi.load_xgi_data(\"kaggle-whats-cooking\")\n",
    "cuisines = set(H.edges.attrs(\"name\").aslist())\n",
    "subhypergraphs = dict()\n",
    "\n",
    "print(cuisines)\n",
    "\n",
    "for c in cuisines:\n",
    "    subhypergraphs[c] = xgi.subhypergraph(H, edges=H.edges.filterby_attr(\"name\", c))"
   ]
  },
  {
   "cell_type": "code",
   "execution_count": null,
   "metadata": {},
   "outputs": [],
   "source": [
    "num_unused_ingredients = dict()\n",
    "most_used_ingredient = dict()\n",
    "num_components = dict()\n",
    "\n",
    "for c in cuisines:\n",
    "    num_unused_ingredients[c] = len(subhypergraphs[c].nodes.isolates())\n",
    "    d = subhypergraphs[c].nodes.degree.asdict()\n",
    "    id = max(d, key=d.get)\n",
    "    most_used_ingredient[c] = H.nodes[id][\"name\"]\n",
    "    num_components[c] = xgi.number_connected_components(subhypergraphs[c])"
   ]
  },
  {
   "cell_type": "code",
   "execution_count": null,
   "metadata": {},
   "outputs": [],
   "source": [
    "print(\"Number of unused ingredients:\")\n",
    "print(num_unused_ingredients)\n",
    "print(\"Most used ingredient:\")\n",
    "print(most_used_ingredient)\n",
    "print(\"Number of connected components:\")\n",
    "print(num_components)"
   ]
  },
  {
   "cell_type": "markdown",
   "metadata": {},
   "source": [
    "## Notebook 5"
   ]
  },
  {
   "cell_type": "code",
   "execution_count": null,
   "metadata": {},
   "outputs": [],
   "source": [
    "H = xgi.uniform_HPPM(100, 3, 8, 0.95)\n",
    "\n",
    "pos = xgi.pca_transform(xgi.pairwise_spring_layout(H))\n",
    "xgi.draw(H, pos=pos, node_fc=H.nodes.clustering_coefficient, node_shape=\"s\")"
   ]
  },
  {
   "cell_type": "markdown",
   "metadata": {},
   "source": [
    "## Notebook 6"
   ]
  },
  {
   "cell_type": "code",
   "execution_count": null,
   "metadata": {},
   "outputs": [],
   "source": [
    "n = 100\n",
    "\n",
    "connected = False\n",
    "while not connected:\n",
    "    H = xgi.fast_random_hypergraph(n, [0.05, 0.001], seed=None)\n",
    "    connected = xgi.is_connected(H)\n",
    "omega = 2 * np.random.normal(1, 0.05, n)\n",
    "theta0 = np.linspace(0, 2 * np.pi, n)\n",
    "timesteps = 500\n",
    "dt = 0.01\n",
    "\n",
    "k2list = np.linspace(0, 3, 10)\n",
    "R = []\n",
    "\n",
    "for k2 in k2list:\n",
    "    theta, _ = xgi.simulate_kuramoto(\n",
    "        H, k2=k2, k3=2, omega=omega, theta=theta0, timesteps=timesteps, dt=dt\n",
    "    )\n",
    "    R.append(xgi.compute_kuramoto_order_parameter(theta)[-1])"
   ]
  },
  {
   "cell_type": "code",
   "execution_count": null,
   "metadata": {},
   "outputs": [],
   "source": [
    "plt.plot(k2list, R)\n",
    "plt.xlabel(r\"$k_2$\")\n",
    "plt.ylabel(r\"$R$\")"
   ]
  }
 ],
 "metadata": {
  "kernelspec": {
   "display_name": "xgi",
   "language": "python",
   "name": "python3"
  },
  "language_info": {
   "codemirror_mode": {
    "name": "ipython",
    "version": 3
   },
   "file_extension": ".py",
   "mimetype": "text/x-python",
   "name": "python",
   "nbconvert_exporter": "python",
   "pygments_lexer": "ipython3",
   "version": "3.13.3"
  }
 },
 "nbformat": 4,
 "nbformat_minor": 2
}
