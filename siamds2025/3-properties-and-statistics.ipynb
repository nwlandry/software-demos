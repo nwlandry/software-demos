{
 "cells": [
  {
   "cell_type": "markdown",
   "id": "a9781b86",
   "metadata": {},
   "source": [
    "# Properties and statistics\n",
    "\n",
    "In this notebook, we will explore how to access properties and statistics of the nodes and edges, and of the network as a whole. We will\n",
    "* Demonstrate the capabilities of `NodeView` and `EdgeView`\n",
    "* Present the statistics interface for accessing node/edge statistics\n",
    "* Present some algorithms for quantifying network structure."
   ]
  },
  {
   "cell_type": "code",
   "execution_count": 1,
   "id": "5a3215df",
   "metadata": {},
   "outputs": [],
   "source": [
    "import matplotlib.pyplot as plt\n",
    "import seaborn as sns\n",
    "import xgi"
   ]
  },
  {
   "cell_type": "code",
   "execution_count": null,
   "id": "0137bc80",
   "metadata": {},
   "outputs": [],
   "source": [
    "H = xgi.load_xgi_data(\"kaggle-whats-cooking\")\n",
    "print(H)"
   ]
  },
  {
   "cell_type": "markdown",
   "id": "f1693c56",
   "metadata": {},
   "source": [
    "## NodeView and EdgeView\n",
    "\n",
    "*Views* are ways of offering read-only access to the nodes, edges, and their properties. For example, one can\n",
    "* See what nodes are contained in an edge\n",
    "* See which edges are maximal\n",
    "* Find isolated nodes\n",
    "* Access nodal attributes\n",
    "\n",
    "For example:"
   ]
  },
  {
   "cell_type": "code",
   "execution_count": null,
   "id": "7821db69",
   "metadata": {},
   "outputs": [],
   "source": [
    "H.edges.singletons()"
   ]
  },
  {
   "cell_type": "code",
   "execution_count": null,
   "id": "3dea9cad",
   "metadata": {},
   "outputs": [],
   "source": [
    "H.edges.members(\"2088\")"
   ]
  },
  {
   "cell_type": "code",
   "execution_count": null,
   "id": "54a1b65e",
   "metadata": {},
   "outputs": [],
   "source": [
    "H.nodes[\"2974\"]"
   ]
  },
  {
   "cell_type": "code",
   "execution_count": null,
   "id": "e58378e2",
   "metadata": {},
   "outputs": [],
   "source": [
    "H.edges - H.edges.maximal()"
   ]
  },
  {
   "cell_type": "code",
   "execution_count": null,
   "id": "6329b524",
   "metadata": {},
   "outputs": [],
   "source": [
    "H.edges.members(\"67\")"
   ]
  },
  {
   "cell_type": "code",
   "execution_count": null,
   "id": "34bab458",
   "metadata": {},
   "outputs": [],
   "source": [
    "[H.nodes[n][\"name\"] for n in H.edges.members(\"67\")]"
   ]
  },
  {
   "cell_type": "code",
   "execution_count": null,
   "id": "10603eb4",
   "metadata": {},
   "outputs": [],
   "source": [
    "H.nodes.neighbors(\"20\")"
   ]
  },
  {
   "attachments": {},
   "cell_type": "markdown",
   "id": "9d820f8e",
   "metadata": {},
   "source": [
    "## Statistics"
   ]
  },
  {
   "cell_type": "markdown",
   "id": "22c91ad1",
   "metadata": {},
   "source": [
    "You may have noticed that most of the functionality in the `Hypergraph` and `SimplicialComplex` classes takes care of modifying the unerlying structure of the network, and that these classes provide very limited functionality to compute statistics (a.k.a. measures) from the network. This is done via the `stats` package, explored here.\n",
    "\n",
    "The stats package is one of the features that sets `xgi` apart from other libraries.  It\n",
    "provides a common interface to all statistics that can be computed from a network, its\n",
    "nodes, or edges."
   ]
  },
  {
   "cell_type": "markdown",
   "id": "018c6bd1",
   "metadata": {},
   "source": [
    "### Introduction to Stat objects"
   ]
  },
  {
   "cell_type": "markdown",
   "id": "1ab63954",
   "metadata": {},
   "source": [
    "Consider the degree of the nodes of a network `H`.  After computing the values of the\n",
    "degrees, one may wish to store them in a dict, a list, an array, a dataframe, etc.\n",
    "Through the stats package, `xgi` provides a simple interface that seamlessly allows for\n",
    "this type conversion.  This is done via the `NodeStat` class."
   ]
  },
  {
   "cell_type": "code",
   "execution_count": null,
   "id": "05a9a2a5",
   "metadata": {},
   "outputs": [],
   "source": [
    "import xgi\n",
    "\n",
    "H = xgi.Hypergraph([[1, 2, 3], [2, 3, 4, 5], [3, 4, 5]])\n",
    "H.nodes.degree"
   ]
  },
  {
   "cell_type": "markdown",
   "id": "2c456800",
   "metadata": {},
   "source": [
    "This `NodeStat` object is essentially a wrapper over a function that computes the\n",
    "degrees of all nodes.  One of the main features of `NodeStat` objects is lazy\n",
    "evaluation: `H.nodes.degree` will not compute the degrees of nodes until a specific\n",
    "output format is requested."
   ]
  },
  {
   "cell_type": "code",
   "execution_count": null,
   "id": "512f4e2c",
   "metadata": {},
   "outputs": [],
   "source": [
    "H.nodes.degree.asdict()"
   ]
  },
  {
   "cell_type": "code",
   "execution_count": null,
   "id": "ddaed7f6",
   "metadata": {},
   "outputs": [],
   "source": [
    "H.nodes.degree.aslist()"
   ]
  },
  {
   "cell_type": "code",
   "execution_count": null,
   "id": "738297c9",
   "metadata": {},
   "outputs": [],
   "source": [
    "H.nodes.degree.asnumpy()"
   ]
  },
  {
   "cell_type": "markdown",
   "id": "5958e119",
   "metadata": {},
   "source": [
    "To compute the degrees of a subset of the nodes, call `degree` from a smaller `NodeView`."
   ]
  },
  {
   "cell_type": "code",
   "execution_count": null,
   "id": "5c19ec0e",
   "metadata": {},
   "outputs": [],
   "source": [
    "H.nodes([3, 4, 5]).degree.asdict()"
   ]
  },
  {
   "cell_type": "markdown",
   "id": "eaf82dff",
   "metadata": {},
   "source": [
    "Alternatively, to compute the degree of a single node, use square brackets."
   ]
  },
  {
   "cell_type": "code",
   "execution_count": null,
   "id": "64eda1dd",
   "metadata": {},
   "outputs": [],
   "source": [
    "H.nodes.degree[4]"
   ]
  },
  {
   "cell_type": "markdown",
   "id": "b0cfd41c",
   "metadata": {},
   "source": [
    "Make sure the accessed node is in the underlying view."
   ]
  },
  {
   "cell_type": "code",
   "execution_count": null,
   "id": "2a745586",
   "metadata": {},
   "outputs": [],
   "source": [
    "# This will raise an exception\n",
    "# because node 4 is not in the view [1, 2, 3]\n",
    "#\n",
    "# H.nodes([1, 2, 3]).degree[4]\n",
    "#"
   ]
  },
  {
   "cell_type": "markdown",
   "id": "41ee1b35",
   "metadata": {},
   "source": [
    "args and kwargs may be passed to `NodeStat` objects, which will be stored and used when\n",
    "the evaluation finally takes place.  For example, use the `order` keyword of `degree` to\n",
    "count only those edges of the specified order."
   ]
  },
  {
   "cell_type": "code",
   "execution_count": null,
   "id": "06f97c51",
   "metadata": {},
   "outputs": [],
   "source": [
    "H.nodes.degree(order=3)"
   ]
  },
  {
   "cell_type": "code",
   "execution_count": null,
   "id": "d78bcb31",
   "metadata": {},
   "outputs": [],
   "source": [
    "H.nodes.degree(order=3).aslist()"
   ]
  },
  {
   "cell_type": "markdown",
   "id": "547ceda2",
   "metadata": {},
   "source": [
    "The stats package provides some convenience functions for numerical operations."
   ]
  },
  {
   "cell_type": "code",
   "execution_count": null,
   "id": "48bb7d5c",
   "metadata": {},
   "outputs": [],
   "source": [
    "H.nodes.degree.max(), H.nodes.degree.min()"
   ]
  },
  {
   "cell_type": "code",
   "execution_count": null,
   "id": "8490f605",
   "metadata": {},
   "outputs": [],
   "source": [
    "import numpy as np\n",
    "\n",
    "st = H.nodes([1, 2, 3]).degree(order=3)\n",
    "np.round([st.max(), st.min(), st.mean(), st.median(), st.var(), st.std()], 3)"
   ]
  },
  {
   "cell_type": "markdown",
   "id": "7669ae88",
   "metadata": {},
   "source": [
    "As a convenience, each node statistic may also be accessed directly through the network itself."
   ]
  },
  {
   "cell_type": "code",
   "execution_count": null,
   "id": "3b0797f4",
   "metadata": {},
   "outputs": [],
   "source": [
    "H.degree()"
   ]
  },
  {
   "cell_type": "markdown",
   "id": "39d32e77",
   "metadata": {},
   "source": [
    "Note however that `H.degree` is a method that simply returns a dict, not a `NodeStat` object and thus does not support the features discussed above."
   ]
  },
  {
   "cell_type": "markdown",
   "id": "08163646",
   "metadata": {},
   "source": [
    "## Node attributes"
   ]
  },
  {
   "cell_type": "markdown",
   "id": "9152e7e5",
   "metadata": {},
   "source": [
    "Node attributes can be conceived of as a node-object mapping and thus they can also be accessed using the `NodeStat` interface and all its funcitonality."
   ]
  },
  {
   "cell_type": "code",
   "execution_count": null,
   "id": "6215e577",
   "metadata": {},
   "outputs": [],
   "source": [
    "H.add_nodes_from(\n",
    "    [\n",
    "        (1, {\"color\": \"red\", \"name\": \"horse\"}),\n",
    "        (2, {\"color\": \"blue\", \"name\": \"pony\"}),\n",
    "        (3, {\"color\": \"yellow\", \"name\": \"zebra\"}),\n",
    "        (4, {\"color\": \"red\", \"name\": \"orangutan\", \"age\": 20}),\n",
    "        (5, {\"color\": \"blue\", \"name\": \"fish\", \"age\": 2}),\n",
    "    ]\n",
    ")"
   ]
  },
  {
   "cell_type": "markdown",
   "id": "54a3a925",
   "metadata": {},
   "source": [
    "Access all attributes of all nodes by specifying a return type."
   ]
  },
  {
   "cell_type": "code",
   "execution_count": null,
   "id": "3053f165",
   "metadata": {},
   "outputs": [],
   "source": [
    "H.nodes.attrs.asdict()"
   ]
  },
  {
   "cell_type": "markdown",
   "id": "052ed6b4",
   "metadata": {},
   "source": [
    "Access all attributes of a single node by using square brackets."
   ]
  },
  {
   "cell_type": "code",
   "execution_count": null,
   "id": "58b9c28b",
   "metadata": {},
   "outputs": [],
   "source": [
    "H.nodes.attrs[1]"
   ]
  },
  {
   "cell_type": "markdown",
   "id": "1f91502a",
   "metadata": {},
   "source": [
    "Access a single attribute of all nodes by specifying a return type."
   ]
  },
  {
   "cell_type": "code",
   "execution_count": null,
   "id": "f7dfa2d3",
   "metadata": {},
   "outputs": [],
   "source": [
    "H.nodes.attrs(\"color\").aslist()"
   ]
  },
  {
   "cell_type": "markdown",
   "id": "ce1a5c97",
   "metadata": {},
   "source": [
    "If a node does not have the specified attribute, `None` will be used."
   ]
  },
  {
   "cell_type": "code",
   "execution_count": null,
   "id": "c2a5acff",
   "metadata": {},
   "outputs": [],
   "source": [
    "H.nodes.attrs(\"age\").asdict()"
   ]
  },
  {
   "cell_type": "markdown",
   "id": "5f6c2981",
   "metadata": {},
   "source": [
    "Use the `missing` keyword argument to change the imputed value."
   ]
  },
  {
   "cell_type": "code",
   "execution_count": null,
   "id": "d9b9ea5c",
   "metadata": {},
   "outputs": [],
   "source": [
    "H.nodes.attrs(\"age\", missing=100).asdict()"
   ]
  },
  {
   "cell_type": "markdown",
   "id": "ac5342bf",
   "metadata": {},
   "source": [
    "## Filtering"
   ]
  },
  {
   "cell_type": "markdown",
   "id": "a8feadac",
   "metadata": {},
   "source": [
    "`NodeView` objects are aware of existing `NodeStat` objects via the `filterby` method."
   ]
  },
  {
   "cell_type": "code",
   "execution_count": null,
   "id": "5164b23e",
   "metadata": {},
   "outputs": [],
   "source": [
    "H.degree()"
   ]
  },
  {
   "cell_type": "code",
   "execution_count": null,
   "id": "c0688703",
   "metadata": {},
   "outputs": [],
   "source": [
    "H.nodes.filterby(\"degree\", 2)  # apply the filter to all nodes"
   ]
  },
  {
   "cell_type": "code",
   "execution_count": null,
   "id": "302e6674",
   "metadata": {},
   "outputs": [],
   "source": [
    "H.nodes([1, 2, 3]).filterby(\n",
    "    \"degree\", 2\n",
    ")  # apply the filter only to the subset of nodes [1, 2, 3]"
   ]
  },
  {
   "cell_type": "markdown",
   "id": "9cba86c7",
   "metadata": {},
   "source": [
    "Nodes can be filtered by attribute via the `filterby_attr` method."
   ]
  },
  {
   "cell_type": "code",
   "execution_count": null,
   "id": "c612ccff",
   "metadata": {},
   "outputs": [],
   "source": [
    "H.nodes.filterby_attr(\"color\", \"red\")"
   ]
  },
  {
   "cell_type": "markdown",
   "id": "69b855ef",
   "metadata": {},
   "source": [
    "Since `filterby*` methods return a `NodeView` object, multiple filters can be chained, as well as other `NodeStat` calls. The following call computes the local clustering coefficient of those nodes with degree equal to 2 and \"color\" attribute equal to \"blue\", and outputs the result as a dict."
   ]
  },
  {
   "cell_type": "code",
   "execution_count": null,
   "id": "cbdc4409",
   "metadata": {
    "scrolled": true
   },
   "outputs": [],
   "source": [
    "(\n",
    "    H.nodes.filterby(\"degree\", 2)\n",
    "    .filterby_attr(\"color\", \"blue\")\n",
    "    .clustering_coefficient.asdict()\n",
    ")"
   ]
  },
  {
   "cell_type": "markdown",
   "id": "d830bb95",
   "metadata": {},
   "source": [
    "For example, here is how to access the nodes with maximum degree."
   ]
  },
  {
   "cell_type": "code",
   "execution_count": null,
   "id": "c8defa14",
   "metadata": {},
   "outputs": [],
   "source": [
    "H.nodes.filterby(\"degree\", H.nodes.degree.max())"
   ]
  },
  {
   "cell_type": "markdown",
   "id": "cc5df033",
   "metadata": {},
   "source": [
    "## Set operations"
   ]
  },
  {
   "cell_type": "markdown",
   "id": "11548f49",
   "metadata": {},
   "source": [
    "Another way of chaining multiple results of `filterby*` methods is by using set operations. Indeed, chaining two filters is the same as intersecting the results of two separate calls:"
   ]
  },
  {
   "cell_type": "code",
   "execution_count": null,
   "id": "970da532",
   "metadata": {},
   "outputs": [],
   "source": [
    "print(H.nodes.filterby(\"degree\", 2).filterby_attr(\"color\", \"blue\"))\n",
    "print(H.nodes.filterby(\"degree\", 2) & H.nodes.filterby_attr(\"color\", \"blue\"))"
   ]
  },
  {
   "cell_type": "markdown",
   "id": "dc0ff694",
   "metadata": {},
   "source": [
    "Other set operations are also supported."
   ]
  },
  {
   "cell_type": "code",
   "execution_count": null,
   "id": "65c22a67",
   "metadata": {},
   "outputs": [],
   "source": [
    "nodes1 = H.nodes.filterby(\"degree\", 2)\n",
    "nodes2 = H.nodes.filterby_attr(\"color\", \"blue\")\n",
    "print(f\"nodes1 - nodes2 = {nodes1 - nodes2}\")\n",
    "print(f\"nodes2 - nodes1 = {nodes2 - nodes1}\")\n",
    "print(f\"nodes1 & nodes2 = {nodes1 & nodes2}\")\n",
    "print(f\"nodes1 | nodes2 = {nodes1 | nodes2}\")\n",
    "print(f\"nodes1 ^ nodes2 = {nodes1 ^ nodes2}\")"
   ]
  },
  {
   "cell_type": "markdown",
   "id": "7e81027f",
   "metadata": {},
   "source": [
    "## Edge statistics"
   ]
  },
  {
   "cell_type": "markdown",
   "id": "29d4aa9f",
   "metadata": {},
   "source": [
    "Every feature showcased above (lazy evaluation, type conversion, filtering, set operations, and multi objects) is supported for edge-quantity or edge-attribute mappings, via `EdgeStat` objects."
   ]
  },
  {
   "cell_type": "code",
   "execution_count": null,
   "id": "3a43de55",
   "metadata": {},
   "outputs": [],
   "source": [
    "H.edges.order"
   ]
  },
  {
   "cell_type": "code",
   "execution_count": null,
   "id": "9e708cda",
   "metadata": {},
   "outputs": [],
   "source": [
    "H.edges.order.asdict()"
   ]
  },
  {
   "cell_type": "code",
   "execution_count": null,
   "id": "29154c7e",
   "metadata": {},
   "outputs": [],
   "source": [
    "H.edges.filterby(\"order\", 3)"
   ]
  },
  {
   "cell_type": "code",
   "execution_count": null,
   "id": "6b319bfc",
   "metadata": {},
   "outputs": [],
   "source": [
    "H.edges.multi([\"order\", \"size\"]).aspandas()"
   ]
  },
  {
   "cell_type": "markdown",
   "id": "82b3317f",
   "metadata": {},
   "source": [
    "## User-defined statistics"
   ]
  },
  {
   "cell_type": "markdown",
   "id": "98b06d7d",
   "metadata": {},
   "source": [
    "Suppose during the course of your research you come up with a new node-level statistic. For the purpose of this tutorial, we are going to define a statistic called `user_degree`. The `user_degree` of a node is simply its standard degree times 10.\n",
    "\n",
    "Since this is also a node-quantity mapping, we would like to give it the same interface as `degree` and all the other `NodeStat`s. The stats package provides a simple way to do this. Simply use the `nodestat_func` decorator."
   ]
  },
  {
   "cell_type": "code",
   "execution_count": null,
   "id": "fec60de5",
   "metadata": {},
   "outputs": [],
   "source": [
    "@xgi.nodestat_func\n",
    "def user_degree(net, bunch):\n",
    "    \"\"\"The user degree of a bunch of nodes in net.\"\"\"\n",
    "    return {n: 10 * net.degree(n) for n in bunch}"
   ]
  },
  {
   "cell_type": "markdown",
   "id": "b0be4a0d",
   "metadata": {},
   "source": [
    "Now `user_degree` is a valid stat that can be computed on any hypergraph:"
   ]
  },
  {
   "cell_type": "code",
   "execution_count": null,
   "id": "7409ae74",
   "metadata": {},
   "outputs": [],
   "source": [
    "H.nodes.user_degree.asdict()"
   ]
  },
  {
   "cell_type": "markdown",
   "id": "65f4b7bf",
   "metadata": {},
   "source": [
    "Every single feature showcased above is available for use with `user_degree`, including filtering nodes and multi stats objects."
   ]
  },
  {
   "cell_type": "code",
   "execution_count": null,
   "id": "314751dc",
   "metadata": {},
   "outputs": [],
   "source": [
    "H.nodes.filterby(\"user_degree\", 20)"
   ]
  },
  {
   "cell_type": "markdown",
   "id": "432346e6",
   "metadata": {},
   "source": [
    "The `@xgi.nodestat_func` decorator works on any function or callable that admits two parameters: `net` and `bunch`, where `net` is the network and `bunch` is an iterable of nodes in `net`. Additionally, the function must return a dictionary with pairs of the form `node: value`, where `node` is an element of `bunch`. The library will take care of type conversions, but the output value of this function must always be a dict."
   ]
  },
  {
   "cell_type": "markdown",
   "id": "60251fad",
   "metadata": {},
   "source": [
    "User-defined edge statistics can similarly be defined using the `@xgi.edgestat` decorator."
   ]
  },
  {
   "cell_type": "markdown",
   "id": "71f1beaa",
   "metadata": {},
   "source": [
    "## Algorithms\n",
    "\n",
    "Generally speaking, the algorithmic methods available in XGI are metrics related to\n",
    "* clustering coefficient\n",
    "* assortativity\n",
    "* connectedness\n",
    "* path lengths\n",
    "* centrality\n",
    "* general measures.\n",
    "\n",
    "The list is available at the [Read The Docs](https://xgi.readthedocs.io/en/stable/api/algorithms.html) page."
   ]
  },
  {
   "cell_type": "code",
   "execution_count": null,
   "id": "086d8207",
   "metadata": {},
   "outputs": [],
   "source": [
    "H = xgi.load_xgi_data(\"email-enron\")"
   ]
  },
  {
   "cell_type": "markdown",
   "id": "8725c68f",
   "metadata": {},
   "source": [
    "Some generally useful functions:"
   ]
  },
  {
   "cell_type": "code",
   "execution_count": null,
   "id": "9f146002",
   "metadata": {},
   "outputs": [],
   "source": [
    "print(xgi.degree_counts(H))\n",
    "print(xgi.max_edge_order(H))\n",
    "print(xgi.unique_edge_sizes(H))"
   ]
  },
  {
   "cell_type": "markdown",
   "id": "fd4d6101",
   "metadata": {},
   "source": [
    "### Connectedness\n",
    "\n",
    "This module implements tools for analyzing the connectedness of a hypergraph."
   ]
  },
  {
   "cell_type": "code",
   "execution_count": null,
   "id": "6e27257a",
   "metadata": {},
   "outputs": [],
   "source": [
    "print(xgi.is_connected(H))\n",
    "print(f\"The number of connected components is {xgi.number_connected_components(H)}\")\n",
    "c = xgi.connected_components(H)  ## Iterator\n",
    "cc = [len(i) for i in c]\n",
    "print(cc)"
   ]
  },
  {
   "cell_type": "markdown",
   "id": "1071ead4",
   "metadata": {},
   "source": [
    "Other selected methods:"
   ]
  },
  {
   "cell_type": "code",
   "execution_count": null,
   "id": "ec928a43",
   "metadata": {},
   "outputs": [],
   "source": [
    "H.cleanup()\n",
    "cec = H.nodes.clique_eigenvector_centrality.asnumpy()\n",
    "\n",
    "kc = H.nodes.katz_centrality.asnumpy()"
   ]
  },
  {
   "cell_type": "code",
   "execution_count": null,
   "id": "b45ad03c",
   "metadata": {},
   "outputs": [],
   "source": [
    "plt.plot(kc, cec, \"ko\")\n",
    "sns.despine()\n",
    "plt.xlabel(\"Katz centrality\")\n",
    "plt.ylabel(\"Clique eigenvector centrality\")"
   ]
  },
  {
   "cell_type": "markdown",
   "id": "c543ef01",
   "metadata": {},
   "source": [
    "## Challenge\n",
    "\n",
    "* Find the number of recipes in `kaggle-whats-cooking` with more than 5 ingredients\n",
    "* Find the number of ingredients that are only used once. What are they?\n",
    "* Make a histogram of the edge size. What is the most common number of ingredients in a recipe?\n",
    "* What is the maximum and minimum number of ingredients?\n",
    "* What is the most popular ingredient?\n",
    "* Extra: Copy the `user_degree` function above and modify it so that it weights each edge by the inverse of its size, i.e.,\n",
    "$k_i = \\sum_{e\\in E} {\\bf 1}_{i\\in e} / |e|$\n",
    "Output this custom degree for `kaggle-whats-cooking` in dictionary form.\n"
   ]
  }
 ],
 "metadata": {
  "kernelspec": {
   "display_name": "xgi",
   "language": "python",
   "name": "python3"
  },
  "language_info": {
   "codemirror_mode": {
    "name": "ipython",
    "version": 3
   },
   "file_extension": ".py",
   "mimetype": "text/x-python",
   "name": "python",
   "nbconvert_exporter": "python",
   "pygments_lexer": "ipython3",
   "version": "3.13.3"
  }
 },
 "nbformat": 4,
 "nbformat_minor": 5
}
