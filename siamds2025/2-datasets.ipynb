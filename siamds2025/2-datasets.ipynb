{
 "cells": [
  {
   "cell_type": "markdown",
   "metadata": {},
   "source": [
    "# Higher-order data\n",
    "\n",
    "XGI provides four ways for generating higher-order datasets:\n",
    "1. Building node-by-node and edge-by-edge (Described in tutorial 1)\n",
    "2. Generating a synthetic network from a model\n",
    "3. Loading from XGI-DATA\n",
    "4. Loading from a file\n",
    "\n",
    "In this tutorial, we will describe methods 2-4."
   ]
  },
  {
   "cell_type": "code",
   "execution_count": 1,
   "metadata": {},
   "outputs": [],
   "source": [
    "import matplotlib.pyplot as plt\n",
    "import xgi"
   ]
  },
  {
   "cell_type": "markdown",
   "metadata": {},
   "source": [
    "## Generating synthetic data\n",
    "\n",
    "XGI has implemented many models for generating synthetic higher-order networks. See [here](https://xgi.readthedocs.io/en/stable/api/generators.html) for a full list. We will demonstrate a few common random models here."
   ]
  },
  {
   "cell_type": "code",
   "execution_count": null,
   "metadata": {},
   "outputs": [],
   "source": [
    "H = xgi.load_xgi_data(\"email-enron\")\n",
    "H.cleanup()\n",
    "\n",
    "n = H.num_nodes"
   ]
  },
  {
   "cell_type": "code",
   "execution_count": null,
   "metadata": {},
   "outputs": [],
   "source": [
    "H_rand = xgi.random_hypergraph(n, [0.005, 0.001], seed=2)\n",
    "k = H.nodes.degree.asdict()\n",
    "s = H.edges.size.asdict()\n",
    "H_cl = xgi.chung_lu_hypergraph(k, s, seed=0)\n",
    "H_hppm = xgi.uniform_HPPM(n, 3, 6, 0.95, seed=1)\n",
    "H_sun = xgi.sunflower(5, 5, 10)"
   ]
  },
  {
   "cell_type": "code",
   "execution_count": null,
   "metadata": {},
   "outputs": [],
   "source": [
    "plt.figure(figsize=(6, 6))\n",
    "pos = xgi.pca_transform(xgi.pairwise_spring_layout(H_cl))\n",
    "plt.subplot(221)\n",
    "plt.title(\"Chung-Lu\")\n",
    "xgi.draw(H_cl, pos=pos)\n",
    "plt.subplot(222)\n",
    "plt.title(\"Random hypergraph\")\n",
    "xgi.draw(H_rand, pos=pos)\n",
    "plt.subplot(223)\n",
    "plt.title(\"Uniform SBM\")\n",
    "pos = xgi.pca_transform(xgi.pairwise_spring_layout(H_hppm))\n",
    "xgi.draw(H_hppm, pos=pos)\n",
    "plt.subplot(224)\n",
    "plt.title(\"Sunflower\")\n",
    "xgi.draw(H_sun, hull=True)\n",
    "plt.show()"
   ]
  },
  {
   "cell_type": "markdown",
   "metadata": {},
   "source": [
    "## XGI-DATA\n",
    "\n",
    "... is an open-source repository of higher-order datasets in standard JSON format:\n",
    "* 27 datasets and counting\n",
    "* A [**table**](https://xgi.readthedocs.io/en/stable/xgi-data.html) of the datasets with their basic statistics\n",
    "* Hosted on Zenodo "
   ]
  },
  {
   "cell_type": "markdown",
   "metadata": {},
   "source": [
    "First, let's see all the datasets that are available:"
   ]
  },
  {
   "cell_type": "code",
   "execution_count": null,
   "metadata": {},
   "outputs": [],
   "source": [
    "xgi.load_xgi_data()  # calling this function without arguments returns the list of all datasets"
   ]
  },
  {
   "cell_type": "markdown",
   "metadata": {},
   "source": [
    "Let's select a dataset."
   ]
  },
  {
   "cell_type": "code",
   "execution_count": null,
   "metadata": {},
   "outputs": [],
   "source": [
    "H = xgi.load_xgi_data(\"email-eu\")\n",
    "print(H)"
   ]
  },
  {
   "cell_type": "markdown",
   "metadata": {},
   "source": [
    "We can easily exclude edges larger than a certain size:"
   ]
  },
  {
   "cell_type": "code",
   "execution_count": null,
   "metadata": {},
   "outputs": [],
   "source": [
    "H2 = xgi.load_xgi_data(\"email-eu\", max_order=2)\n",
    "print(H2)"
   ]
  },
  {
   "cell_type": "markdown",
   "metadata": {},
   "source": [
    "We look at some of the statistics of the original dataset:"
   ]
  },
  {
   "cell_type": "code",
   "execution_count": null,
   "metadata": {},
   "outputs": [],
   "source": [
    "print(\n",
    "    \"The dataset is connected\"\n",
    "    if xgi.is_connected(H)\n",
    "    else \"The dataset is not connected\"\n",
    ")\n",
    "print(f\"The unique edge sizes are \\n{xgi.unique_edge_sizes(H)}\")"
   ]
  },
  {
   "cell_type": "markdown",
   "metadata": {},
   "source": [
    "### Cleaning up\n",
    "\n",
    "XGI provides a method called `cleanup` to easily tidy up higher-order datasets. Operations that `cleanup` can perform:\n",
    "* Removing isolated nodes\n",
    "* Removing singleton edges\n",
    "* Removing multiedges\n",
    "* Renaming nodes and edges to a standard labeling scheme\n",
    "* Removing nodes and edges that are not part of the giant component\n",
    "\n",
    "For example:"
   ]
  },
  {
   "cell_type": "code",
   "execution_count": null,
   "metadata": {},
   "outputs": [],
   "source": [
    "print(H.nodes)\n",
    "print(H)\n",
    "print(xgi.is_connected(H))"
   ]
  },
  {
   "cell_type": "code",
   "execution_count": null,
   "metadata": {},
   "outputs": [],
   "source": [
    "H.cleanup()\n",
    "print(H.nodes)\n",
    "print(H)\n",
    "print(xgi.is_connected(H))"
   ]
  },
  {
   "cell_type": "markdown",
   "metadata": {},
   "source": [
    "...don't worry, the old label is still there!"
   ]
  },
  {
   "cell_type": "code",
   "execution_count": null,
   "metadata": {},
   "outputs": [],
   "source": [
    "H.nodes[0]"
   ]
  },
  {
   "cell_type": "code",
   "execution_count": null,
   "metadata": {},
   "outputs": [],
   "source": [
    "# Save the file\n",
    "xgi.download_xgi_data(\"email-enron\")\n",
    "# this now lives in email-enron.json"
   ]
  },
  {
   "cell_type": "code",
   "execution_count": null,
   "metadata": {},
   "outputs": [],
   "source": [
    "Hlocal = xgi.load_xgi_data(\"email-enron\", read=True)  # now we are loading locally!\n",
    "print(Hlocal)"
   ]
  },
  {
   "cell_type": "markdown",
   "metadata": {},
   "source": [
    "## Read and write\n",
    "\n",
    "XGI offers 4 different formats to read and write:\n",
    "* JSON (same format as XGI-DATA)\n",
    "* Hyperedge list\n",
    "* Bipartite edge list\n",
    "* Incidence matrix\n",
    "\n",
    "Starting with the JSON, this is identical to the format of XGI-DATA datasets. A benefit of this format is that it stores attributes of nodes, edges, and the hypergraph."
   ]
  },
  {
   "cell_type": "code",
   "execution_count": null,
   "metadata": {},
   "outputs": [],
   "source": [
    "# Write the example hypergraph to a JSON file\n",
    "xgi.write_json(Hlocal, \"hypergraph_json.json\")\n",
    "# Load the file just written and store it in a new hypergraph\n",
    "H_json = xgi.read_json(\"hypergraph_json.json\")"
   ]
  },
  {
   "cell_type": "markdown",
   "metadata": {},
   "source": [
    "We can also read/write a hyperedge list. In this case, each line tabulates the node ids of each edge. Pros: compact. Cons: Can't store attributes."
   ]
  },
  {
   "cell_type": "code",
   "execution_count": null,
   "metadata": {},
   "outputs": [],
   "source": [
    "# Write the hypergraph to a file as a hyperedge list\n",
    "xgi.write_edgelist(H, \"hyperedge_list.csv\", delimiter=\",\")\n",
    "# Read the file just written as a new hypergraph\n",
    "H_el = xgi.read_edgelist(\"hyperedge_list.csv\", delimiter=\",\", nodetype=int)"
   ]
  },
  {
   "cell_type": "markdown",
   "metadata": {},
   "source": [
    "Lastly, we can read/write an incidence matrix. In this format, rows represent the node IDs, and the columns represent the edge IDs. Pros: Easy to convert to a Numpy array or Pandas dataframe. Cons: Non-compact representation, no attributes, not easily readable."
   ]
  },
  {
   "cell_type": "code",
   "execution_count": null,
   "metadata": {},
   "outputs": [],
   "source": [
    "# Write the hypergraph as a bipartite edge list\n",
    "xgi.write_incidence_matrix(H, \"incidence.csv\", delimiter=\",\")\n",
    "# Read the file just written as a new hypergraph\n",
    "H_bel = xgi.read_incidence_matrix(\"incidence.csv\", delimiter=\",\")"
   ]
  },
  {
   "cell_type": "markdown",
   "metadata": {},
   "source": [
    "We can read/write a bipartite edgelist. In this format, each line is composed of two entries: column 1 is the ID of the node, and column 2 is the edge to which that node belongs. Pros: fixed number of columns, compact. Cons: again, no attributes."
   ]
  },
  {
   "cell_type": "markdown",
   "metadata": {},
   "source": [
    "## Challenge\n",
    "\n",
    "* What is the average multiplicity of an edge in the `contact-high-school` dataset? Hint: use `cleanup()`.\n",
    "* Load the `congress-bills` dataset excluding edges of order 11 and larger and save it as a tab-delimited hyperedge list."
   ]
  }
 ],
 "metadata": {
  "kernelspec": {
   "display_name": "xgi",
   "language": "python",
   "name": "python3"
  },
  "language_info": {
   "codemirror_mode": {
    "name": "ipython",
    "version": 3
   },
   "file_extension": ".py",
   "mimetype": "text/x-python",
   "name": "python",
   "nbconvert_exporter": "python",
   "pygments_lexer": "ipython3",
   "version": "3.13.3"
  }
 },
 "nbformat": 4,
 "nbformat_minor": 2
}
