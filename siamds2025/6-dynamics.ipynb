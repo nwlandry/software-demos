{
 "cells": [
  {
   "cell_type": "code",
   "execution_count": null,
   "id": "e25eee31",
   "metadata": {},
   "outputs": [],
   "source": [
    "import random\n",
    "\n",
    "import matplotlib.pyplot as plt\n",
    "import numpy as np\n",
    "import xgi"
   ]
  },
  {
   "cell_type": "markdown",
   "id": "ea26cb06",
   "metadata": {},
   "source": [
    "## Contagion dynamics"
   ]
  },
  {
   "cell_type": "code",
   "execution_count": null,
   "id": "4d4bc5fe",
   "metadata": {},
   "outputs": [],
   "source": [
    "def SIS(H, beta, gamma, tmax):\n",
    "    n = H.num_nodes\n",
    "    num_seeds = 10\n",
    "    # susceptible is 0, infected is 1\n",
    "    X = np.zeros((tmax, n))\n",
    "    X[0, random.sample(range(n), num_seeds)] = 1\n",
    "\n",
    "    members = H.edges.members(dtype=dict)\n",
    "    memberships = H.nodes.memberships()\n",
    "    for t in range(tmax - 1):\n",
    "        # loop over all the nodes\n",
    "        X[t + 1] = X[t]\n",
    "        for i in range(n):\n",
    "            # infection\n",
    "            if X[t, i] == 0:\n",
    "                for e in memberships[i]:\n",
    "                    # majority vote\n",
    "                    edge = list(members[e])\n",
    "                    if X[t, edge].sum() / len(edge) > 0.5 and random.random() < beta:\n",
    "                        X[t + 1, i] = 1\n",
    "                        break\n",
    "\n",
    "            # healing\n",
    "            if X[t, i] == 1 and random.random() < gamma:\n",
    "                X[t + 1, i] = 0\n",
    "    return np.arange(tmax), X\n",
    "\n",
    "\n",
    "def SIR(H, beta, gamma, tmax):\n",
    "    n = H.num_nodes\n",
    "    num_seeds = 10\n",
    "    # susceptible is 0, infected is 1\n",
    "    X = np.zeros((tmax, n))\n",
    "    X[0, random.sample(range(n), num_seeds)] = 1\n",
    "\n",
    "    members = H.edges.members(dtype=dict)\n",
    "    memberships = H.nodes.memberships()\n",
    "\n",
    "    t = 0\n",
    "    while t < tmax - 1 and sum(X[t] == 1) > 0:\n",
    "        # loop over all the nodes\n",
    "        X[t + 1] = X[t]\n",
    "        for i in range(n):\n",
    "            # infection\n",
    "            if X[t, i] == 0:\n",
    "                for e in memberships[i]:\n",
    "                    # majority vote\n",
    "                    edge = list(members[e])\n",
    "                    if X[t, edge].sum() / len(edge) > 0.5 and random.random() < beta:\n",
    "                        X[t + 1, i] = 1\n",
    "                        break\n",
    "\n",
    "            # healing\n",
    "            if X[t, i] == 1 and random.random() < gamma:\n",
    "                X[t + 1, i] = 2\n",
    "\n",
    "        t += 1\n",
    "    return np.arange(tmax), X"
   ]
  },
  {
   "cell_type": "code",
   "execution_count": null,
   "id": "c52eaa7b",
   "metadata": {},
   "outputs": [],
   "source": [
    "n = 100\n",
    "H = xgi.fast_random_hypergraph(n, [0.07, 0.05])"
   ]
  },
  {
   "cell_type": "code",
   "execution_count": null,
   "id": "35f7bbd1",
   "metadata": {},
   "outputs": [],
   "source": [
    "t, X = SIR(H, 0.005, 0.1, 50)"
   ]
  },
  {
   "cell_type": "code",
   "execution_count": null,
   "id": "c1f556e5",
   "metadata": {},
   "outputs": [],
   "source": [
    "plt.spy(X.T)\n",
    "plt.xlabel(\"Time\")\n",
    "plt.ylabel(\"Node state\")"
   ]
  },
  {
   "cell_type": "code",
   "execution_count": null,
   "id": "6e2dde29",
   "metadata": {},
   "outputs": [],
   "source": [
    "plt.plot((X == 0).sum(axis=1), label=\"Susceptible\")\n",
    "plt.plot((X == 1).sum(axis=1), label=\"Infected\")\n",
    "plt.plot((X == 2).sum(axis=1), label=\"Recovered\")\n",
    "\n",
    "plt.xlabel(\"Time\")\n",
    "plt.xlabel(\"Number\")\n",
    "plt.legend()"
   ]
  },
  {
   "cell_type": "code",
   "execution_count": null,
   "id": "a79d272a",
   "metadata": {},
   "outputs": [],
   "source": [
    "t, X = SIS(H, 0.005, 0.1, 50)"
   ]
  },
  {
   "cell_type": "code",
   "execution_count": null,
   "id": "94f08f14",
   "metadata": {},
   "outputs": [],
   "source": [
    "plt.plot(X.sum(axis=1), label=\"Infected\")"
   ]
  },
  {
   "cell_type": "markdown",
   "id": "3b9e75aa",
   "metadata": {},
   "source": [
    "## Synchronization dynamics"
   ]
  },
  {
   "cell_type": "code",
   "execution_count": null,
   "id": "3be85ab4",
   "metadata": {},
   "outputs": [],
   "source": [
    "n = 100\n",
    "H = xgi.fast_random_hypergraph(n, [0.05, 0.001], seed=None)\n",
    "omega = 2 * np.random.normal(1, 0.05, n)\n",
    "theta = np.linspace(0, 2 * np.pi, n)\n",
    "timesteps = 500\n",
    "dt = 0.01\n",
    "\n",
    "theta, t = xgi.simulate_kuramoto(\n",
    "    H, k2=2, k3=3, omega=omega, theta=theta, timesteps=timesteps, dt=dt\n",
    ")\n",
    "R = xgi.compute_kuramoto_order_parameter(theta)"
   ]
  },
  {
   "cell_type": "code",
   "execution_count": null,
   "id": "319619a3",
   "metadata": {},
   "outputs": [],
   "source": [
    "plt.plot(t, theta)\n",
    "plt.show()"
   ]
  },
  {
   "cell_type": "code",
   "execution_count": null,
   "id": "cf49de1a",
   "metadata": {},
   "outputs": [],
   "source": [
    "plt.plot(t, R)"
   ]
  },
  {
   "cell_type": "markdown",
   "id": "781ad7e8",
   "metadata": {},
   "source": [
    "## Challenge:\n",
    "* Using the `simulate_kuramoto` function with the hypergraph above, vary the value of `k2` while letting `k3=2`, and plot the steady-state order parameter (an approximation could be the value at t=5) with respect to `k2` to determine the critical value for sync to occur."
   ]
  }
 ],
 "metadata": {
  "kernelspec": {
   "display_name": "xgi",
   "language": "python",
   "name": "python3"
  },
  "language_info": {
   "codemirror_mode": {
    "name": "ipython",
    "version": 3
   },
   "file_extension": ".py",
   "mimetype": "text/x-python",
   "name": "python",
   "nbconvert_exporter": "python",
   "pygments_lexer": "ipython3",
   "version": "3.13.3"
  }
 },
 "nbformat": 4,
 "nbformat_minor": 5
}
